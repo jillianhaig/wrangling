{
  "cells": [
    {
      "cell_type": "markdown",
      "id": "13ad028b-72b7-43ed-aa78-96fd4e518040",
      "metadata": {
        "id": "13ad028b-72b7-43ed-aa78-96fd4e518040"
      },
      "source": [
        "# Assignment: Data Wrangling"
      ]
    },
    {
      "cell_type": "code",
      "source": [
        "! git clone https://github.com/DS3001/wrangling"
      ],
      "metadata": {
        "colab": {
          "base_uri": "https://localhost:8080/"
        },
        "id": "uBJtUFQQwhWS",
        "outputId": "f789bf37-db93-4496-c24a-592a50681d83"
      },
      "id": "uBJtUFQQwhWS",
      "execution_count": 1,
      "outputs": [
        {
          "output_type": "stream",
          "name": "stdout",
          "text": [
            "Cloning into 'wrangling'...\n",
            "remote: Enumerating objects: 75, done.\u001b[K\n",
            "remote: Counting objects: 100% (34/34), done.\u001b[K\n",
            "remote: Compressing objects: 100% (24/24), done.\u001b[K\n",
            "remote: Total 75 (delta 27), reused 10 (delta 10), pack-reused 41\u001b[K\n",
            "Receiving objects: 100% (75/75), 6.25 MiB | 24.25 MiB/s, done.\n",
            "Resolving deltas: 100% (33/33), done.\n"
          ]
        }
      ]
    },
    {
      "cell_type": "markdown",
      "source": [],
      "metadata": {
        "id": "-WE5GJizGv0s"
      },
      "id": "-WE5GJizGv0s"
    },
    {
      "cell_type": "markdown",
      "id": "5735a4d4-8be8-433a-a351-70eb8002e632",
      "metadata": {
        "id": "5735a4d4-8be8-433a-a351-70eb8002e632"
      },
      "source": [
        "**Q1.** Open the \"tidy_data.pdf\" document in the repo, which is a paper called Tidy Data by Hadley Wickham.\n",
        "\n",
        "  1. Read the abstract. What is this paper about?\n",
        "  2. Read the introduction. What is the \"tidy data standard\" intended to accomplish?\n",
        "  3. Read the intro to section 2. What does this sentence mean: \"Like families, tidy datasets are all alike but every messy dataset is messy in its own way.\" What does this sentence mean: \"For a given dataset, it’s usually easy to figure out what are observations and what are variables, but it is surprisingly difficult to precisely define variables and observations in general.\"\n",
        "  4. Read Section 2.2. How does Wickham define values, variables, and observations?\n",
        "  5. How is \"Tidy Data\" defined in section 2.3?\n",
        "  6. Read the intro to Section 3 and Section 3.1. What are the 5 most common problems with messy datasets? Why are the data in Table 4 messy? What is \"melting\" a dataset?\n",
        "  7. Why, specifically, is table 11 messy but table 12 tidy and \"molten\"?\n",
        "  8. Read Section 6. What is the \"chicken-and-egg\" problem with focusing on tidy data? What does Wickham hope happens in the future with further work on the subject of data wrangling?"
      ]
    },
    {
      "cell_type": "markdown",
      "source": [
        "1. The abstract claims that cleaning a dataset and preparing it for use takes up a lot of time, but there is little research available on how to make this cleaning process as efficient as possible. This paper will specifically focus on \"data tidying\" which make the datasets easier to interpret and manipulate.\n",
        "\n",
        "2. It is a standard way to organize the data values in a dataset. This makes the initial cleaning easier as you don't need to start from scratch each time.\n",
        "\n",
        "3. This first sentence means that while most datasets are messy, they will be messy/disorganized in their own ways, so you won't necessarily be using the same processes every single time in every data set because the problems in the datasets may be very different. The second sentence means that while the columns and rows might be explicitly listed, understanding and interpreting what the data underneath these labels actually mean is more difficult or ambiguous.\n",
        "\n",
        "4. Values vs Variables vs Observations:\n",
        "- Values: either quanitative numbers or qualitative strings.\n",
        "- Variables: every value belongs to a variable (and a observation) that contains all values that measure the sae underlying attribute across units.\n",
        "- Observations: every value belongs to an observation (and a variable), and the observation contains all values measured on the same unit, across attributes.\n",
        "\n",
        "5. It's a \"standard way of mapping the meaning of a dataset to its structure.\" In tidy data, each variable forms a column, each observation forms a row, and each type of observational unit forms a table.\n",
        "\n",
        "6. The 5 most common problems with messy data sets, according to the document, are:\n",
        "- Column headers are values, not variable names.\n",
        "- Multiple variables are stored in one column.\n",
        "- Variables are stored in both rows and columns.\n",
        "- Multiple types of observational units are stored in the same table.\n",
        "- A single observational unit is stored in multiple tables.\n",
        "\n",
        "  The data table is messy because we actually need a separate variable \"income\" rather than listing eac individual income bracket as a different variable/column label. Melting (or stacking) is when columns are turned into rows.\n",
        "\n",
        "7. Having a seperate variable for year, month, and day in table 11 leads to many missing variables and a messy dataset. Table 12 is almost tidy but its element column contains names of other variables, not values.\n",
        "\n",
        "8. This problem can arise if tidy data is only as useful as the tools that work with it, therefore linking the two together. Wickham hopes that the tidy data framework is not one of the \"false starts\" he describes in his paper, but he also does not see it as the \"final solution.\" Wickham wants others to build upon his framework and create more useful and efficient data storage tools and strategies.\n",
        "\n",
        "\n"
      ],
      "metadata": {
        "id": "_7pdatfeGxdV"
      },
      "id": "_7pdatfeGxdV"
    },
    {
      "cell_type": "markdown",
      "id": "da879ea7-8aac-48a3-b6c2-daea56d2e072",
      "metadata": {
        "id": "da879ea7-8aac-48a3-b6c2-daea56d2e072"
      },
      "source": [
        "**Q2.** This question provides some practice cleaning variables which have common problems.\n",
        "1. Numeric variable: For `./data/airbnb_hw.csv`, clean the `Price` variable as well as you can, and explain the choices you make. How many missing values do you end up with? (Hint: What happens to the formatting when a price goes over 999 dollars, say from 675 to 1,112?)\n",
        "2. Categorical variable: For the `./data/sharks.csv` data covered in the lecture, clean the \"Type\" variable as well as you can, and explain the choices you make.\n",
        "3. Dummy variable: For the pretrial data covered in the lecture, clean the `WhetherDefendantWasReleasedPretrial` variable as well as you can, and, in particular, replace missing values with `np.nan`.\n",
        "4. Missing values, not at random: For the pretrial data covered in the lecture, clean the `ImposedSentenceAllChargeInContactEvent` variable as well as you can, and explain the choices you make. (Hint: Look at the `SentenceTypeAllChargesAtConvictionInContactEvent` variable.)"
      ]
    },
    {
      "cell_type": "markdown",
      "id": "649494cd-cfd6-4f80-992a-9994fc19e1d5",
      "metadata": {
        "id": "649494cd-cfd6-4f80-992a-9994fc19e1d5"
      },
      "source": [
        "**Q3.** Many important datasets contain a race variable, typically limited to a handful of values often including Black, White, Asian, Latino, and Indigenous. This question looks at data gathering efforts on this variable by the U.S. Federal government.\n",
        "\n",
        "1. How did the most recent US Census gather data on race?\n",
        "2. Why do we gather these data? What role do these kinds of data play in politics and society? Why does data quality matter?\n",
        "3. Please provide a constructive criticism of how the Census was conducted: What was done well? What do you think was missing? How should future large scale surveys be adjusted to best reflect the diversity of the population? Could some of the Census' good practices be adopted more widely to gather richer and more useful data?\n",
        "4. How did the Census gather data on sex and gender? Please provide a similar constructive criticism of their practices.\n",
        "5. When it comes to cleaning data, what concerns do you have about protected characteristics like sex, gender, sexual identity, or race? What challenges can you imagine arising when there are missing values? What good or bad practices might people adopt, and why?\n",
        "6. Suppose someone invented an algorithm to impute values for protected characteristics like race, gender, sex, or sexuality. What kinds of concerns would you have?"
      ]
    }
  ],
  "metadata": {
    "colab": {
      "provenance": []
    },
    "kernelspec": {
      "display_name": "Python 3 (ipykernel)",
      "language": "python",
      "name": "python3"
    },
    "language_info": {
      "codemirror_mode": {
        "name": "ipython",
        "version": 3
      },
      "file_extension": ".py",
      "mimetype": "text/x-python",
      "name": "python",
      "nbconvert_exporter": "python",
      "pygments_lexer": "ipython3",
      "version": "3.10.4"
    }
  },
  "nbformat": 4,
  "nbformat_minor": 5
}