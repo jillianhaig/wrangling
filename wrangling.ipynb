{
  "cells": [
    {
      "cell_type": "markdown",
      "id": "91a87d65",
      "metadata": {
        "editable": true,
        "id": "91a87d65",
        "tags": []
      },
      "source": [
        "# Data Wrangling\n",
        "## Foundations of Machine Learning\n",
        "### `! git clone https://github.com/DS3001/wrangling`"
      ]
    },
    {
      "cell_type": "markdown",
      "id": "b69db1a1",
      "metadata": {
        "id": "b69db1a1"
      },
      "source": [
        "## Data Wrangling\n",
        "- First: Data are plural, and the singular is datum. Second: If you can't love data at their worst, you don't deserve them at their best.\n",
        "- The data must be **wrangled** or **cleaned** into some form that is amenable to analysis\n",
        "- This can be an exhausting process, and there is no uniquely correct way to do it: choices have consequences\n",
        "- Missing data is the key issue when cleaning data: Understanding which values are missing for some observations/variables, and understanding the implications for analysis\n",
        "- Many key choices depend on what kind of analysis you plan to do"
      ]
    },
    {
      "cell_type": "markdown",
      "id": "6f1299ae-e16b-46db-9e5c-69b9bc579f93",
      "metadata": {
        "id": "6f1299ae-e16b-46db-9e5c-69b9bc579f93"
      },
      "source": [
        "## Data Wrangling\n",
        "- According to a survey by CloudFlower and popularized by Forbes, about 82% of data scientists' time is spent on cleaning and organizing data:\n",
        "\n",
        "![Time use](https://github.com/jillianhaig/wrangling/blob/main/timespent.jpg?raw=1)\n",
        "\n",
        "\"76% of data scientists view data preparation as the least enjoyable part of their work.\"rk"
      ]
    },
    {
      "cell_type": "markdown",
      "id": "bab807f2-97c7-4d0b-b8bb-0819ffd763fa",
      "metadata": {
        "id": "bab807f2-97c7-4d0b-b8bb-0819ffd763fa"
      },
      "source": [
        "## Replication and Open Science\n",
        "- Before we go on: Never, ever edit the original data *file(s)*. Do not edit and overwrite the file. Never, ever do this.\n",
        "- You never know what will matter later, so always keep the original data files in a safe place.\n",
        "- Document everything you do in a commented script or markdown file so that in the future, you or someone else can **reproduce** the steps you took to clean the data.\n",
        "- **Reproducibility** means that people can take your data and recreate your results on their own. **Replicability** means that people can do your entire project from scratch (experiment, data, analysis) and get similar results.\n",
        "- The biggest threat to science is the inability to reproduce/replicate results, and a lack of transparency in how results were created: It destroys confidence in the entire enterprise, and makes it impossible for us to make progress."
      ]
    },
    {
      "cell_type": "markdown",
      "id": "538e3471",
      "metadata": {
        "id": "538e3471",
        "jp-MarkdownHeadingCollapsed": true
      },
      "source": [
        "## Files Containing Data\n",
        "- These are the most common file formats I am aware of, and what programs or languages created them:\n",
        "\n",
        "| File Format Extension | Likely Source |\n",
        "| :---: | :---:|\n",
        "|.csv | Any |\n",
        "|.Rda, .Rdata | R |\n",
        "|.dat | SAS |\n",
        "|.sav | SPSS |\n",
        "|.dta | Stata |\n",
        "|.mat | MATLAB |\n",
        "|.xls, .xlsx | Excel |\n",
        "|.json | JavaScript Object Notation|\n",
        "\n",
        "- Like most people, I prefer all of my data to be in *comma separated value* or .csv format: The first thing I do with new data is switch them into .csv to ensure that anyone I'm working with can access them\n",
        "- Some file formats are roughly spreadsheets, like .csv or .xls, but a .json or .db file contains database entries that must be parsed\n",
        "- To analyze data, we typically want them in a particular form: A rectangular matrix"
      ]
    },
    {
      "cell_type": "markdown",
      "id": "ac81890a",
      "metadata": {
        "id": "ac81890a"
      },
      "source": [
        "## Codebooks\n",
        "- Data come with documentation, which I am going to generically call a *codebook* or a *data dictionary*\n",
        "- The documentation is usually not very good!\n",
        "- It might be a formal codebook, or it might just be the survey itself that respondents filled out, or it might just be the html/javascript code that created the web page that captured the responses\n",
        "- If you don't have a codebook you shouldn't be analyzing the data: You have no clue what it is\n",
        "    - `Employees` might be a `True/False` about whether the firm has any employees at all, or it might be the number of employees it employs, and so on"
      ]
    },
    {
      "cell_type": "markdown",
      "id": "f6ddcdfd-a5d0-4ee8-b954-7c19754fe9dd",
      "metadata": {
        "id": "f6ddcdfd-a5d0-4ee8-b954-7c19754fe9dd",
        "jp-MarkdownHeadingCollapsed": true
      },
      "source": [
        "## Data\n",
        "- We are typically interested in modelling some kind of phenomenon: defendants, atoms, stock prices, shark attacks, earthquakes, students, cancer, countries, ...\n",
        "- A specific case or instance of the phenomenon is called an **observation**\n",
        "- The observed attributes of a case are called **variables**\n",
        "- The recorded value of a particular attribute for a particular observation is called a **value**\n",
        "- For example, \"What was the bond amount for defendant 1112?\" \"$550\"\n",
        "    - The variable is the bond amount\n",
        "    - The observation is defendant 1112\n",
        "    - The value of the bond for defendant 1112 is 550 dollars\n",
        "    - The data consist of observations of attributes of different defendants in a legal system"
      ]
    },
    {
      "cell_type": "markdown",
      "id": "913ffae0",
      "metadata": {
        "id": "913ffae0"
      },
      "source": [
        "## Matrices and Data Frames\n",
        "- I am going to call an ordered collection with $N$ elements a \"tuple of length $N$\"; it could be a base Python tuple or a NumPy list, etc.\n",
        "- When we stack $K$ tuples $(x_1, x_2, ..., x_K)$ of length $N$ side by side, we get an $N \\times K$ object called a *matrix*:\n",
        "$$\n",
        "X = \\left[ x_1, x_2, ..., x_K \\right] = \\left[ \\begin{array}{cccc}\n",
        "x_{11} & x_{12} & \\dots  & x_{1K} \\\\\n",
        "x_{21} & x_{22} & \\dots  & x_{2K} \\\\\n",
        "\\vdots & \\vdots & \\ddots & \\vdots \\\\\n",
        "x_{N1} & x_{N2} & \\dots & x_{NK} \\\\\n",
        "\\end{array}\\right]\n",
        "$$\n",
        "- The indices for $x_{ik}$ are $ik=(\\text{row},\\text{column})$, so the tuple $(x_{i1},...,x_{iK})$ is row $i$ and the tuple $(x_{1k}, x_{2k},...,x_{Nk})$ is column $k$\n",
        "- Matrices have many applications throughout mathematics, statistics, and data science, but are the basic model of data\n",
        "- When each row represents an *observation* and each column represents a *variable*, we call the matrix $X$ a *dataframe*\n",
        "- Advanced machine learning makes calculations directly on the dataframe $X$ as a matrix using linear algebra and vector calculus (e.g., $ \\hat{\\beta} = (X'X)^{-1} X'y$)"
      ]
    },
    {
      "cell_type": "markdown",
      "id": "2cb56f36",
      "metadata": {
        "id": "2cb56f36"
      },
      "source": [
        "## Pandas\n",
        "- Since Python is a general purpose computing language, it does not automatically have built-in functionality to effectively load, clean, and manipulate data\n",
        "- **Pandas** is currently the most popular data-cleaning package for Python: A set of new functions and object classes that expand the base functionality of Python\n",
        "- You load Pandas into your environment using `import pandas as pd`\n",
        "- The `import` keyword tells Python to look for a package named `pandas`, and the `as` keyword says we'd like to use the letters `pd` to refer to the pandas module\n",
        "- The fundamental class object of the Pandas package is the **dataframe**\n",
        "- There's already a package I like better called Polars"
      ]
    },
    {
      "cell_type": "code",
      "execution_count": 2,
      "id": "a4636679-d446-4c12-93c2-e8d4acf6ea7a",
      "metadata": {
        "id": "a4636679-d446-4c12-93c2-e8d4acf6ea7a"
      },
      "outputs": [],
      "source": [
        "import numpy as np # Import the numpy package into your workspace\n",
        "import pandas as pd  # Import the pandas package into your workspace"
      ]
    },
    {
      "cell_type": "markdown",
      "id": "dbedb460",
      "metadata": {
        "id": "dbedb460",
        "jp-MarkdownHeadingCollapsed": true
      },
      "source": [
        "## Loading Data\n",
        "- The publicly available data that happen to be on my desk right now concern pretrial detention of all defendants in Virginia in 2017; the codebook is in the repo, but not the data, which is too big to host on GitHub\n",
        "- To load .csv data from a local file, you'll use the `.read_csv(filename)` class method:\n",
        "```python\n",
        "df = pd.read_csv('./data/VirginiaPretrialData2017.csv',low_memory=False)\n",
        "```\n",
        "- .csv files load easily on any computer for any language, which is why we generally prefer them. If you have an Excel or Stata or SAS file, it can require some time/effort to get it loaded."
      ]
    },
    {
      "cell_type": "markdown",
      "id": "4b93e559-9a2c-4ce1-9c13-f9f5d4321f5c",
      "metadata": {
        "id": "4b93e559-9a2c-4ce1-9c13-f9f5d4321f5c"
      },
      "source": [
        "## Getting the Justice Data\n",
        "- This is a fairly large dataset: 53MB\n",
        "- GitHub does not want to host files that large for us (the limit is about 5MB)\n",
        "- We're going to have to get it straight from the source: The Virginia Sentencing Commission\n",
        "- The website where it lives is: http://www.vcsc.virginia.gov/pretrialdataproject2017.html\n",
        "- To bring it into our workspace, we'll just use Pandas to go get it"
      ]
    },
    {
      "cell_type": "code",
      "execution_count": 15,
      "id": "024ff8dd-6bb6-4f47-9ada-a22fc85b93a3",
      "metadata": {
        "id": "024ff8dd-6bb6-4f47-9ada-a22fc85b93a3",
        "colab": {
          "base_uri": "https://localhost:8080/",
          "height": 383
        },
        "outputId": "1e2f7bfb-957f-446b-cc9b-58f2aac1031b"
      },
      "outputs": [
        {
          "output_type": "error",
          "ename": "KeyboardInterrupt",
          "evalue": "",
          "traceback": [
            "\u001b[0;31m---------------------------------------------------------------------------\u001b[0m",
            "\u001b[0;31mKeyboardInterrupt\u001b[0m                         Traceback (most recent call last)",
            "\u001b[0;32m<ipython-input-15-a9d0ec202c40>\u001b[0m in \u001b[0;36m<cell line: 2>\u001b[0;34m()\u001b[0m\n\u001b[1;32m      1\u001b[0m \u001b[0murl\u001b[0m \u001b[0;34m=\u001b[0m \u001b[0;34m'http://www.vcsc.virginia.gov/pretrialdataproject/October%202017%20Cohort_Virginia%20Pretrial%20Data%20Project_Deidentified%20FINAL%20Update_10272021.csv'\u001b[0m\u001b[0;34m\u001b[0m\u001b[0;34m\u001b[0m\u001b[0m\n\u001b[0;32m----> 2\u001b[0;31m \u001b[0mdf\u001b[0m \u001b[0;34m=\u001b[0m \u001b[0mpd\u001b[0m\u001b[0;34m.\u001b[0m\u001b[0mread_csv\u001b[0m\u001b[0;34m(\u001b[0m\u001b[0murl\u001b[0m\u001b[0;34m,\u001b[0m\u001b[0mlow_memory\u001b[0m\u001b[0;34m=\u001b[0m\u001b[0;32mFalse\u001b[0m\u001b[0;34m)\u001b[0m \u001b[0;31m# Pandas downloads and loads the .csv file for you\u001b[0m\u001b[0;34m\u001b[0m\u001b[0;34m\u001b[0m\u001b[0m\n\u001b[0m",
            "\u001b[0;32m/usr/local/lib/python3.10/dist-packages/pandas/util/_decorators.py\u001b[0m in \u001b[0;36mwrapper\u001b[0;34m(*args, **kwargs)\u001b[0m\n\u001b[1;32m    209\u001b[0m                 \u001b[0;32melse\u001b[0m\u001b[0;34m:\u001b[0m\u001b[0;34m\u001b[0m\u001b[0;34m\u001b[0m\u001b[0m\n\u001b[1;32m    210\u001b[0m                     \u001b[0mkwargs\u001b[0m\u001b[0;34m[\u001b[0m\u001b[0mnew_arg_name\u001b[0m\u001b[0;34m]\u001b[0m \u001b[0;34m=\u001b[0m \u001b[0mnew_arg_value\u001b[0m\u001b[0;34m\u001b[0m\u001b[0;34m\u001b[0m\u001b[0m\n\u001b[0;32m--> 211\u001b[0;31m             \u001b[0;32mreturn\u001b[0m \u001b[0mfunc\u001b[0m\u001b[0;34m(\u001b[0m\u001b[0;34m*\u001b[0m\u001b[0margs\u001b[0m\u001b[0;34m,\u001b[0m \u001b[0;34m**\u001b[0m\u001b[0mkwargs\u001b[0m\u001b[0;34m)\u001b[0m\u001b[0;34m\u001b[0m\u001b[0;34m\u001b[0m\u001b[0m\n\u001b[0m\u001b[1;32m    212\u001b[0m \u001b[0;34m\u001b[0m\u001b[0m\n\u001b[1;32m    213\u001b[0m         \u001b[0;32mreturn\u001b[0m \u001b[0mcast\u001b[0m\u001b[0;34m(\u001b[0m\u001b[0mF\u001b[0m\u001b[0;34m,\u001b[0m \u001b[0mwrapper\u001b[0m\u001b[0;34m)\u001b[0m\u001b[0;34m\u001b[0m\u001b[0;34m\u001b[0m\u001b[0m\n",
            "\u001b[0;32m/usr/local/lib/python3.10/dist-packages/pandas/util/_decorators.py\u001b[0m in \u001b[0;36mwrapper\u001b[0;34m(*args, **kwargs)\u001b[0m\n\u001b[1;32m    329\u001b[0m                     \u001b[0mstacklevel\u001b[0m\u001b[0;34m=\u001b[0m\u001b[0mfind_stack_level\u001b[0m\u001b[0;34m(\u001b[0m\u001b[0;34m)\u001b[0m\u001b[0;34m,\u001b[0m\u001b[0;34m\u001b[0m\u001b[0;34m\u001b[0m\u001b[0m\n\u001b[1;32m    330\u001b[0m                 )\n\u001b[0;32m--> 331\u001b[0;31m             \u001b[0;32mreturn\u001b[0m \u001b[0mfunc\u001b[0m\u001b[0;34m(\u001b[0m\u001b[0;34m*\u001b[0m\u001b[0margs\u001b[0m\u001b[0;34m,\u001b[0m \u001b[0;34m**\u001b[0m\u001b[0mkwargs\u001b[0m\u001b[0;34m)\u001b[0m\u001b[0;34m\u001b[0m\u001b[0;34m\u001b[0m\u001b[0m\n\u001b[0m\u001b[1;32m    332\u001b[0m \u001b[0;34m\u001b[0m\u001b[0m\n\u001b[1;32m    333\u001b[0m         \u001b[0;31m# error: \"Callable[[VarArg(Any), KwArg(Any)], Any]\" has no\u001b[0m\u001b[0;34m\u001b[0m\u001b[0;34m\u001b[0m\u001b[0m\n",
            "\u001b[0;32m/usr/local/lib/python3.10/dist-packages/pandas/io/parsers/readers.py\u001b[0m in \u001b[0;36mread_csv\u001b[0;34m(filepath_or_buffer, sep, delimiter, header, names, index_col, usecols, squeeze, prefix, mangle_dupe_cols, dtype, engine, converters, true_values, false_values, skipinitialspace, skiprows, skipfooter, nrows, na_values, keep_default_na, na_filter, verbose, skip_blank_lines, parse_dates, infer_datetime_format, keep_date_col, date_parser, dayfirst, cache_dates, iterator, chunksize, compression, thousands, decimal, lineterminator, quotechar, quoting, doublequote, escapechar, comment, encoding, encoding_errors, dialect, error_bad_lines, warn_bad_lines, on_bad_lines, delim_whitespace, low_memory, memory_map, float_precision, storage_options)\u001b[0m\n\u001b[1;32m    948\u001b[0m     \u001b[0mkwds\u001b[0m\u001b[0;34m.\u001b[0m\u001b[0mupdate\u001b[0m\u001b[0;34m(\u001b[0m\u001b[0mkwds_defaults\u001b[0m\u001b[0;34m)\u001b[0m\u001b[0;34m\u001b[0m\u001b[0;34m\u001b[0m\u001b[0m\n\u001b[1;32m    949\u001b[0m \u001b[0;34m\u001b[0m\u001b[0m\n\u001b[0;32m--> 950\u001b[0;31m     \u001b[0;32mreturn\u001b[0m \u001b[0m_read\u001b[0m\u001b[0;34m(\u001b[0m\u001b[0mfilepath_or_buffer\u001b[0m\u001b[0;34m,\u001b[0m \u001b[0mkwds\u001b[0m\u001b[0;34m)\u001b[0m\u001b[0;34m\u001b[0m\u001b[0;34m\u001b[0m\u001b[0m\n\u001b[0m\u001b[1;32m    951\u001b[0m \u001b[0;34m\u001b[0m\u001b[0m\n\u001b[1;32m    952\u001b[0m \u001b[0;34m\u001b[0m\u001b[0m\n",
            "\u001b[0;32m/usr/local/lib/python3.10/dist-packages/pandas/io/parsers/readers.py\u001b[0m in \u001b[0;36m_read\u001b[0;34m(filepath_or_buffer, kwds)\u001b[0m\n\u001b[1;32m    603\u001b[0m \u001b[0;34m\u001b[0m\u001b[0m\n\u001b[1;32m    604\u001b[0m     \u001b[0;31m# Create the parser.\u001b[0m\u001b[0;34m\u001b[0m\u001b[0;34m\u001b[0m\u001b[0m\n\u001b[0;32m--> 605\u001b[0;31m     \u001b[0mparser\u001b[0m \u001b[0;34m=\u001b[0m \u001b[0mTextFileReader\u001b[0m\u001b[0;34m(\u001b[0m\u001b[0mfilepath_or_buffer\u001b[0m\u001b[0;34m,\u001b[0m \u001b[0;34m**\u001b[0m\u001b[0mkwds\u001b[0m\u001b[0;34m)\u001b[0m\u001b[0;34m\u001b[0m\u001b[0;34m\u001b[0m\u001b[0m\n\u001b[0m\u001b[1;32m    606\u001b[0m \u001b[0;34m\u001b[0m\u001b[0m\n\u001b[1;32m    607\u001b[0m     \u001b[0;32mif\u001b[0m \u001b[0mchunksize\u001b[0m \u001b[0;32mor\u001b[0m \u001b[0miterator\u001b[0m\u001b[0;34m:\u001b[0m\u001b[0;34m\u001b[0m\u001b[0;34m\u001b[0m\u001b[0m\n",
            "\u001b[0;32m/usr/local/lib/python3.10/dist-packages/pandas/io/parsers/readers.py\u001b[0m in \u001b[0;36m__init__\u001b[0;34m(self, f, engine, **kwds)\u001b[0m\n\u001b[1;32m   1440\u001b[0m \u001b[0;34m\u001b[0m\u001b[0m\n\u001b[1;32m   1441\u001b[0m         \u001b[0mself\u001b[0m\u001b[0;34m.\u001b[0m\u001b[0mhandles\u001b[0m\u001b[0;34m:\u001b[0m \u001b[0mIOHandles\u001b[0m \u001b[0;34m|\u001b[0m \u001b[0;32mNone\u001b[0m \u001b[0;34m=\u001b[0m \u001b[0;32mNone\u001b[0m\u001b[0;34m\u001b[0m\u001b[0;34m\u001b[0m\u001b[0m\n\u001b[0;32m-> 1442\u001b[0;31m         \u001b[0mself\u001b[0m\u001b[0;34m.\u001b[0m\u001b[0m_engine\u001b[0m \u001b[0;34m=\u001b[0m \u001b[0mself\u001b[0m\u001b[0;34m.\u001b[0m\u001b[0m_make_engine\u001b[0m\u001b[0;34m(\u001b[0m\u001b[0mf\u001b[0m\u001b[0;34m,\u001b[0m \u001b[0mself\u001b[0m\u001b[0;34m.\u001b[0m\u001b[0mengine\u001b[0m\u001b[0;34m)\u001b[0m\u001b[0;34m\u001b[0m\u001b[0;34m\u001b[0m\u001b[0m\n\u001b[0m\u001b[1;32m   1443\u001b[0m \u001b[0;34m\u001b[0m\u001b[0m\n\u001b[1;32m   1444\u001b[0m     \u001b[0;32mdef\u001b[0m \u001b[0mclose\u001b[0m\u001b[0;34m(\u001b[0m\u001b[0mself\u001b[0m\u001b[0;34m)\u001b[0m \u001b[0;34m->\u001b[0m \u001b[0;32mNone\u001b[0m\u001b[0;34m:\u001b[0m\u001b[0;34m\u001b[0m\u001b[0;34m\u001b[0m\u001b[0m\n",
            "\u001b[0;32m/usr/local/lib/python3.10/dist-packages/pandas/io/parsers/readers.py\u001b[0m in \u001b[0;36m_make_engine\u001b[0;34m(self, f, engine)\u001b[0m\n\u001b[1;32m   1733\u001b[0m                 \u001b[0;32mif\u001b[0m \u001b[0;34m\"b\"\u001b[0m \u001b[0;32mnot\u001b[0m \u001b[0;32min\u001b[0m \u001b[0mmode\u001b[0m\u001b[0;34m:\u001b[0m\u001b[0;34m\u001b[0m\u001b[0;34m\u001b[0m\u001b[0m\n\u001b[1;32m   1734\u001b[0m                     \u001b[0mmode\u001b[0m \u001b[0;34m+=\u001b[0m \u001b[0;34m\"b\"\u001b[0m\u001b[0;34m\u001b[0m\u001b[0;34m\u001b[0m\u001b[0m\n\u001b[0;32m-> 1735\u001b[0;31m             self.handles = get_handle(\n\u001b[0m\u001b[1;32m   1736\u001b[0m                 \u001b[0mf\u001b[0m\u001b[0;34m,\u001b[0m\u001b[0;34m\u001b[0m\u001b[0;34m\u001b[0m\u001b[0m\n\u001b[1;32m   1737\u001b[0m                 \u001b[0mmode\u001b[0m\u001b[0;34m,\u001b[0m\u001b[0;34m\u001b[0m\u001b[0;34m\u001b[0m\u001b[0m\n",
            "\u001b[0;32m/usr/local/lib/python3.10/dist-packages/pandas/io/common.py\u001b[0m in \u001b[0;36mget_handle\u001b[0;34m(path_or_buf, mode, encoding, compression, memory_map, is_text, errors, storage_options)\u001b[0m\n\u001b[1;32m    711\u001b[0m \u001b[0;34m\u001b[0m\u001b[0m\n\u001b[1;32m    712\u001b[0m     \u001b[0;31m# open URLs\u001b[0m\u001b[0;34m\u001b[0m\u001b[0;34m\u001b[0m\u001b[0m\n\u001b[0;32m--> 713\u001b[0;31m     ioargs = _get_filepath_or_buffer(\n\u001b[0m\u001b[1;32m    714\u001b[0m         \u001b[0mpath_or_buf\u001b[0m\u001b[0;34m,\u001b[0m\u001b[0;34m\u001b[0m\u001b[0;34m\u001b[0m\u001b[0m\n\u001b[1;32m    715\u001b[0m         \u001b[0mencoding\u001b[0m\u001b[0;34m=\u001b[0m\u001b[0mencoding\u001b[0m\u001b[0;34m,\u001b[0m\u001b[0;34m\u001b[0m\u001b[0;34m\u001b[0m\u001b[0m\n",
            "\u001b[0;32m/usr/local/lib/python3.10/dist-packages/pandas/io/common.py\u001b[0m in \u001b[0;36m_get_filepath_or_buffer\u001b[0;34m(filepath_or_buffer, encoding, compression, mode, storage_options)\u001b[0m\n\u001b[1;32m    361\u001b[0m         \u001b[0;31m# assuming storage_options is to be interpreted as headers\u001b[0m\u001b[0;34m\u001b[0m\u001b[0;34m\u001b[0m\u001b[0m\n\u001b[1;32m    362\u001b[0m         \u001b[0mreq_info\u001b[0m \u001b[0;34m=\u001b[0m \u001b[0murllib\u001b[0m\u001b[0;34m.\u001b[0m\u001b[0mrequest\u001b[0m\u001b[0;34m.\u001b[0m\u001b[0mRequest\u001b[0m\u001b[0;34m(\u001b[0m\u001b[0mfilepath_or_buffer\u001b[0m\u001b[0;34m,\u001b[0m \u001b[0mheaders\u001b[0m\u001b[0;34m=\u001b[0m\u001b[0mstorage_options\u001b[0m\u001b[0;34m)\u001b[0m\u001b[0;34m\u001b[0m\u001b[0;34m\u001b[0m\u001b[0m\n\u001b[0;32m--> 363\u001b[0;31m         \u001b[0;32mwith\u001b[0m \u001b[0murlopen\u001b[0m\u001b[0;34m(\u001b[0m\u001b[0mreq_info\u001b[0m\u001b[0;34m)\u001b[0m \u001b[0;32mas\u001b[0m \u001b[0mreq\u001b[0m\u001b[0;34m:\u001b[0m\u001b[0;34m\u001b[0m\u001b[0;34m\u001b[0m\u001b[0m\n\u001b[0m\u001b[1;32m    364\u001b[0m             \u001b[0mcontent_encoding\u001b[0m \u001b[0;34m=\u001b[0m \u001b[0mreq\u001b[0m\u001b[0;34m.\u001b[0m\u001b[0mheaders\u001b[0m\u001b[0;34m.\u001b[0m\u001b[0mget\u001b[0m\u001b[0;34m(\u001b[0m\u001b[0;34m\"Content-Encoding\"\u001b[0m\u001b[0;34m,\u001b[0m \u001b[0;32mNone\u001b[0m\u001b[0;34m)\u001b[0m\u001b[0;34m\u001b[0m\u001b[0;34m\u001b[0m\u001b[0m\n\u001b[1;32m    365\u001b[0m             \u001b[0;32mif\u001b[0m \u001b[0mcontent_encoding\u001b[0m \u001b[0;34m==\u001b[0m \u001b[0;34m\"gzip\"\u001b[0m\u001b[0;34m:\u001b[0m\u001b[0;34m\u001b[0m\u001b[0;34m\u001b[0m\u001b[0m\n",
            "\u001b[0;32m/usr/local/lib/python3.10/dist-packages/pandas/io/common.py\u001b[0m in \u001b[0;36murlopen\u001b[0;34m(*args, **kwargs)\u001b[0m\n\u001b[1;32m    263\u001b[0m     \u001b[0;32mimport\u001b[0m \u001b[0murllib\u001b[0m\u001b[0;34m.\u001b[0m\u001b[0mrequest\u001b[0m\u001b[0;34m\u001b[0m\u001b[0;34m\u001b[0m\u001b[0m\n\u001b[1;32m    264\u001b[0m \u001b[0;34m\u001b[0m\u001b[0m\n\u001b[0;32m--> 265\u001b[0;31m     \u001b[0;32mreturn\u001b[0m \u001b[0murllib\u001b[0m\u001b[0;34m.\u001b[0m\u001b[0mrequest\u001b[0m\u001b[0;34m.\u001b[0m\u001b[0murlopen\u001b[0m\u001b[0;34m(\u001b[0m\u001b[0;34m*\u001b[0m\u001b[0margs\u001b[0m\u001b[0;34m,\u001b[0m \u001b[0;34m**\u001b[0m\u001b[0mkwargs\u001b[0m\u001b[0;34m)\u001b[0m\u001b[0;34m\u001b[0m\u001b[0;34m\u001b[0m\u001b[0m\n\u001b[0m\u001b[1;32m    266\u001b[0m \u001b[0;34m\u001b[0m\u001b[0m\n\u001b[1;32m    267\u001b[0m \u001b[0;34m\u001b[0m\u001b[0m\n",
            "\u001b[0;32m/usr/lib/python3.10/urllib/request.py\u001b[0m in \u001b[0;36murlopen\u001b[0;34m(url, data, timeout, cafile, capath, cadefault, context)\u001b[0m\n\u001b[1;32m    214\u001b[0m     \u001b[0;32melse\u001b[0m\u001b[0;34m:\u001b[0m\u001b[0;34m\u001b[0m\u001b[0;34m\u001b[0m\u001b[0m\n\u001b[1;32m    215\u001b[0m         \u001b[0mopener\u001b[0m \u001b[0;34m=\u001b[0m \u001b[0m_opener\u001b[0m\u001b[0;34m\u001b[0m\u001b[0;34m\u001b[0m\u001b[0m\n\u001b[0;32m--> 216\u001b[0;31m     \u001b[0;32mreturn\u001b[0m \u001b[0mopener\u001b[0m\u001b[0;34m.\u001b[0m\u001b[0mopen\u001b[0m\u001b[0;34m(\u001b[0m\u001b[0murl\u001b[0m\u001b[0;34m,\u001b[0m \u001b[0mdata\u001b[0m\u001b[0;34m,\u001b[0m \u001b[0mtimeout\u001b[0m\u001b[0;34m)\u001b[0m\u001b[0;34m\u001b[0m\u001b[0;34m\u001b[0m\u001b[0m\n\u001b[0m\u001b[1;32m    217\u001b[0m \u001b[0;34m\u001b[0m\u001b[0m\n\u001b[1;32m    218\u001b[0m \u001b[0;32mdef\u001b[0m \u001b[0minstall_opener\u001b[0m\u001b[0;34m(\u001b[0m\u001b[0mopener\u001b[0m\u001b[0;34m)\u001b[0m\u001b[0;34m:\u001b[0m\u001b[0;34m\u001b[0m\u001b[0;34m\u001b[0m\u001b[0m\n",
            "\u001b[0;32m/usr/lib/python3.10/urllib/request.py\u001b[0m in \u001b[0;36mopen\u001b[0;34m(self, fullurl, data, timeout)\u001b[0m\n\u001b[1;32m    517\u001b[0m \u001b[0;34m\u001b[0m\u001b[0m\n\u001b[1;32m    518\u001b[0m         \u001b[0msys\u001b[0m\u001b[0;34m.\u001b[0m\u001b[0maudit\u001b[0m\u001b[0;34m(\u001b[0m\u001b[0;34m'urllib.Request'\u001b[0m\u001b[0;34m,\u001b[0m \u001b[0mreq\u001b[0m\u001b[0;34m.\u001b[0m\u001b[0mfull_url\u001b[0m\u001b[0;34m,\u001b[0m \u001b[0mreq\u001b[0m\u001b[0;34m.\u001b[0m\u001b[0mdata\u001b[0m\u001b[0;34m,\u001b[0m \u001b[0mreq\u001b[0m\u001b[0;34m.\u001b[0m\u001b[0mheaders\u001b[0m\u001b[0;34m,\u001b[0m \u001b[0mreq\u001b[0m\u001b[0;34m.\u001b[0m\u001b[0mget_method\u001b[0m\u001b[0;34m(\u001b[0m\u001b[0;34m)\u001b[0m\u001b[0;34m)\u001b[0m\u001b[0;34m\u001b[0m\u001b[0;34m\u001b[0m\u001b[0m\n\u001b[0;32m--> 519\u001b[0;31m         \u001b[0mresponse\u001b[0m \u001b[0;34m=\u001b[0m \u001b[0mself\u001b[0m\u001b[0;34m.\u001b[0m\u001b[0m_open\u001b[0m\u001b[0;34m(\u001b[0m\u001b[0mreq\u001b[0m\u001b[0;34m,\u001b[0m \u001b[0mdata\u001b[0m\u001b[0;34m)\u001b[0m\u001b[0;34m\u001b[0m\u001b[0;34m\u001b[0m\u001b[0m\n\u001b[0m\u001b[1;32m    520\u001b[0m \u001b[0;34m\u001b[0m\u001b[0m\n\u001b[1;32m    521\u001b[0m         \u001b[0;31m# post-process response\u001b[0m\u001b[0;34m\u001b[0m\u001b[0;34m\u001b[0m\u001b[0m\n",
            "\u001b[0;32m/usr/lib/python3.10/urllib/request.py\u001b[0m in \u001b[0;36m_open\u001b[0;34m(self, req, data)\u001b[0m\n\u001b[1;32m    534\u001b[0m \u001b[0;34m\u001b[0m\u001b[0m\n\u001b[1;32m    535\u001b[0m         \u001b[0mprotocol\u001b[0m \u001b[0;34m=\u001b[0m \u001b[0mreq\u001b[0m\u001b[0;34m.\u001b[0m\u001b[0mtype\u001b[0m\u001b[0;34m\u001b[0m\u001b[0;34m\u001b[0m\u001b[0m\n\u001b[0;32m--> 536\u001b[0;31m         result = self._call_chain(self.handle_open, protocol, protocol +\n\u001b[0m\u001b[1;32m    537\u001b[0m                                   '_open', req)\n\u001b[1;32m    538\u001b[0m         \u001b[0;32mif\u001b[0m \u001b[0mresult\u001b[0m\u001b[0;34m:\u001b[0m\u001b[0;34m\u001b[0m\u001b[0;34m\u001b[0m\u001b[0m\n",
            "\u001b[0;32m/usr/lib/python3.10/urllib/request.py\u001b[0m in \u001b[0;36m_call_chain\u001b[0;34m(self, chain, kind, meth_name, *args)\u001b[0m\n\u001b[1;32m    494\u001b[0m         \u001b[0;32mfor\u001b[0m \u001b[0mhandler\u001b[0m \u001b[0;32min\u001b[0m \u001b[0mhandlers\u001b[0m\u001b[0;34m:\u001b[0m\u001b[0;34m\u001b[0m\u001b[0;34m\u001b[0m\u001b[0m\n\u001b[1;32m    495\u001b[0m             \u001b[0mfunc\u001b[0m \u001b[0;34m=\u001b[0m \u001b[0mgetattr\u001b[0m\u001b[0;34m(\u001b[0m\u001b[0mhandler\u001b[0m\u001b[0;34m,\u001b[0m \u001b[0mmeth_name\u001b[0m\u001b[0;34m)\u001b[0m\u001b[0;34m\u001b[0m\u001b[0;34m\u001b[0m\u001b[0m\n\u001b[0;32m--> 496\u001b[0;31m             \u001b[0mresult\u001b[0m \u001b[0;34m=\u001b[0m \u001b[0mfunc\u001b[0m\u001b[0;34m(\u001b[0m\u001b[0;34m*\u001b[0m\u001b[0margs\u001b[0m\u001b[0;34m)\u001b[0m\u001b[0;34m\u001b[0m\u001b[0;34m\u001b[0m\u001b[0m\n\u001b[0m\u001b[1;32m    497\u001b[0m             \u001b[0;32mif\u001b[0m \u001b[0mresult\u001b[0m \u001b[0;32mis\u001b[0m \u001b[0;32mnot\u001b[0m \u001b[0;32mNone\u001b[0m\u001b[0;34m:\u001b[0m\u001b[0;34m\u001b[0m\u001b[0;34m\u001b[0m\u001b[0m\n\u001b[1;32m    498\u001b[0m                 \u001b[0;32mreturn\u001b[0m \u001b[0mresult\u001b[0m\u001b[0;34m\u001b[0m\u001b[0;34m\u001b[0m\u001b[0m\n",
            "\u001b[0;32m/usr/lib/python3.10/urllib/request.py\u001b[0m in \u001b[0;36mhttp_open\u001b[0;34m(self, req)\u001b[0m\n\u001b[1;32m   1375\u001b[0m \u001b[0;34m\u001b[0m\u001b[0m\n\u001b[1;32m   1376\u001b[0m     \u001b[0;32mdef\u001b[0m \u001b[0mhttp_open\u001b[0m\u001b[0;34m(\u001b[0m\u001b[0mself\u001b[0m\u001b[0;34m,\u001b[0m \u001b[0mreq\u001b[0m\u001b[0;34m)\u001b[0m\u001b[0;34m:\u001b[0m\u001b[0;34m\u001b[0m\u001b[0;34m\u001b[0m\u001b[0m\n\u001b[0;32m-> 1377\u001b[0;31m         \u001b[0;32mreturn\u001b[0m \u001b[0mself\u001b[0m\u001b[0;34m.\u001b[0m\u001b[0mdo_open\u001b[0m\u001b[0;34m(\u001b[0m\u001b[0mhttp\u001b[0m\u001b[0;34m.\u001b[0m\u001b[0mclient\u001b[0m\u001b[0;34m.\u001b[0m\u001b[0mHTTPConnection\u001b[0m\u001b[0;34m,\u001b[0m \u001b[0mreq\u001b[0m\u001b[0;34m)\u001b[0m\u001b[0;34m\u001b[0m\u001b[0;34m\u001b[0m\u001b[0m\n\u001b[0m\u001b[1;32m   1378\u001b[0m \u001b[0;34m\u001b[0m\u001b[0m\n\u001b[1;32m   1379\u001b[0m     \u001b[0mhttp_request\u001b[0m \u001b[0;34m=\u001b[0m \u001b[0mAbstractHTTPHandler\u001b[0m\u001b[0;34m.\u001b[0m\u001b[0mdo_request_\u001b[0m\u001b[0;34m\u001b[0m\u001b[0;34m\u001b[0m\u001b[0m\n",
            "\u001b[0;32m/usr/lib/python3.10/urllib/request.py\u001b[0m in \u001b[0;36mdo_open\u001b[0;34m(self, http_class, req, **http_conn_args)\u001b[0m\n\u001b[1;32m   1346\u001b[0m         \u001b[0;32mtry\u001b[0m\u001b[0;34m:\u001b[0m\u001b[0;34m\u001b[0m\u001b[0;34m\u001b[0m\u001b[0m\n\u001b[1;32m   1347\u001b[0m             \u001b[0;32mtry\u001b[0m\u001b[0;34m:\u001b[0m\u001b[0;34m\u001b[0m\u001b[0;34m\u001b[0m\u001b[0m\n\u001b[0;32m-> 1348\u001b[0;31m                 h.request(req.get_method(), req.selector, req.data, headers,\n\u001b[0m\u001b[1;32m   1349\u001b[0m                           encode_chunked=req.has_header('Transfer-encoding'))\n\u001b[1;32m   1350\u001b[0m             \u001b[0;32mexcept\u001b[0m \u001b[0mOSError\u001b[0m \u001b[0;32mas\u001b[0m \u001b[0merr\u001b[0m\u001b[0;34m:\u001b[0m \u001b[0;31m# timeout error\u001b[0m\u001b[0;34m\u001b[0m\u001b[0;34m\u001b[0m\u001b[0m\n",
            "\u001b[0;32m/usr/lib/python3.10/http/client.py\u001b[0m in \u001b[0;36mrequest\u001b[0;34m(self, method, url, body, headers, encode_chunked)\u001b[0m\n\u001b[1;32m   1281\u001b[0m                 encode_chunked=False):\n\u001b[1;32m   1282\u001b[0m         \u001b[0;34m\"\"\"Send a complete request to the server.\"\"\"\u001b[0m\u001b[0;34m\u001b[0m\u001b[0;34m\u001b[0m\u001b[0m\n\u001b[0;32m-> 1283\u001b[0;31m         \u001b[0mself\u001b[0m\u001b[0;34m.\u001b[0m\u001b[0m_send_request\u001b[0m\u001b[0;34m(\u001b[0m\u001b[0mmethod\u001b[0m\u001b[0;34m,\u001b[0m \u001b[0murl\u001b[0m\u001b[0;34m,\u001b[0m \u001b[0mbody\u001b[0m\u001b[0;34m,\u001b[0m \u001b[0mheaders\u001b[0m\u001b[0;34m,\u001b[0m \u001b[0mencode_chunked\u001b[0m\u001b[0;34m)\u001b[0m\u001b[0;34m\u001b[0m\u001b[0;34m\u001b[0m\u001b[0m\n\u001b[0m\u001b[1;32m   1284\u001b[0m \u001b[0;34m\u001b[0m\u001b[0m\n\u001b[1;32m   1285\u001b[0m     \u001b[0;32mdef\u001b[0m \u001b[0m_send_request\u001b[0m\u001b[0;34m(\u001b[0m\u001b[0mself\u001b[0m\u001b[0;34m,\u001b[0m \u001b[0mmethod\u001b[0m\u001b[0;34m,\u001b[0m \u001b[0murl\u001b[0m\u001b[0;34m,\u001b[0m \u001b[0mbody\u001b[0m\u001b[0;34m,\u001b[0m \u001b[0mheaders\u001b[0m\u001b[0;34m,\u001b[0m \u001b[0mencode_chunked\u001b[0m\u001b[0;34m)\u001b[0m\u001b[0;34m:\u001b[0m\u001b[0;34m\u001b[0m\u001b[0;34m\u001b[0m\u001b[0m\n",
            "\u001b[0;32m/usr/lib/python3.10/http/client.py\u001b[0m in \u001b[0;36m_send_request\u001b[0;34m(self, method, url, body, headers, encode_chunked)\u001b[0m\n\u001b[1;32m   1327\u001b[0m             \u001b[0;31m# default charset of iso-8859-1.\u001b[0m\u001b[0;34m\u001b[0m\u001b[0;34m\u001b[0m\u001b[0m\n\u001b[1;32m   1328\u001b[0m             \u001b[0mbody\u001b[0m \u001b[0;34m=\u001b[0m \u001b[0m_encode\u001b[0m\u001b[0;34m(\u001b[0m\u001b[0mbody\u001b[0m\u001b[0;34m,\u001b[0m \u001b[0;34m'body'\u001b[0m\u001b[0;34m)\u001b[0m\u001b[0;34m\u001b[0m\u001b[0;34m\u001b[0m\u001b[0m\n\u001b[0;32m-> 1329\u001b[0;31m         \u001b[0mself\u001b[0m\u001b[0;34m.\u001b[0m\u001b[0mendheaders\u001b[0m\u001b[0;34m(\u001b[0m\u001b[0mbody\u001b[0m\u001b[0;34m,\u001b[0m \u001b[0mencode_chunked\u001b[0m\u001b[0;34m=\u001b[0m\u001b[0mencode_chunked\u001b[0m\u001b[0;34m)\u001b[0m\u001b[0;34m\u001b[0m\u001b[0;34m\u001b[0m\u001b[0m\n\u001b[0m\u001b[1;32m   1330\u001b[0m \u001b[0;34m\u001b[0m\u001b[0m\n\u001b[1;32m   1331\u001b[0m     \u001b[0;32mdef\u001b[0m \u001b[0mgetresponse\u001b[0m\u001b[0;34m(\u001b[0m\u001b[0mself\u001b[0m\u001b[0;34m)\u001b[0m\u001b[0;34m:\u001b[0m\u001b[0;34m\u001b[0m\u001b[0;34m\u001b[0m\u001b[0m\n",
            "\u001b[0;32m/usr/lib/python3.10/http/client.py\u001b[0m in \u001b[0;36mendheaders\u001b[0;34m(self, message_body, encode_chunked)\u001b[0m\n\u001b[1;32m   1276\u001b[0m         \u001b[0;32melse\u001b[0m\u001b[0;34m:\u001b[0m\u001b[0;34m\u001b[0m\u001b[0;34m\u001b[0m\u001b[0m\n\u001b[1;32m   1277\u001b[0m             \u001b[0;32mraise\u001b[0m \u001b[0mCannotSendHeader\u001b[0m\u001b[0;34m(\u001b[0m\u001b[0;34m)\u001b[0m\u001b[0;34m\u001b[0m\u001b[0;34m\u001b[0m\u001b[0m\n\u001b[0;32m-> 1278\u001b[0;31m         \u001b[0mself\u001b[0m\u001b[0;34m.\u001b[0m\u001b[0m_send_output\u001b[0m\u001b[0;34m(\u001b[0m\u001b[0mmessage_body\u001b[0m\u001b[0;34m,\u001b[0m \u001b[0mencode_chunked\u001b[0m\u001b[0;34m=\u001b[0m\u001b[0mencode_chunked\u001b[0m\u001b[0;34m)\u001b[0m\u001b[0;34m\u001b[0m\u001b[0;34m\u001b[0m\u001b[0m\n\u001b[0m\u001b[1;32m   1279\u001b[0m \u001b[0;34m\u001b[0m\u001b[0m\n\u001b[1;32m   1280\u001b[0m     def request(self, method, url, body=None, headers={}, *,\n",
            "\u001b[0;32m/usr/lib/python3.10/http/client.py\u001b[0m in \u001b[0;36m_send_output\u001b[0;34m(self, message_body, encode_chunked)\u001b[0m\n\u001b[1;32m   1036\u001b[0m         \u001b[0mmsg\u001b[0m \u001b[0;34m=\u001b[0m \u001b[0;34mb\"\\r\\n\"\u001b[0m\u001b[0;34m.\u001b[0m\u001b[0mjoin\u001b[0m\u001b[0;34m(\u001b[0m\u001b[0mself\u001b[0m\u001b[0;34m.\u001b[0m\u001b[0m_buffer\u001b[0m\u001b[0;34m)\u001b[0m\u001b[0;34m\u001b[0m\u001b[0;34m\u001b[0m\u001b[0m\n\u001b[1;32m   1037\u001b[0m         \u001b[0;32mdel\u001b[0m \u001b[0mself\u001b[0m\u001b[0;34m.\u001b[0m\u001b[0m_buffer\u001b[0m\u001b[0;34m[\u001b[0m\u001b[0;34m:\u001b[0m\u001b[0;34m]\u001b[0m\u001b[0;34m\u001b[0m\u001b[0;34m\u001b[0m\u001b[0m\n\u001b[0;32m-> 1038\u001b[0;31m         \u001b[0mself\u001b[0m\u001b[0;34m.\u001b[0m\u001b[0msend\u001b[0m\u001b[0;34m(\u001b[0m\u001b[0mmsg\u001b[0m\u001b[0;34m)\u001b[0m\u001b[0;34m\u001b[0m\u001b[0;34m\u001b[0m\u001b[0m\n\u001b[0m\u001b[1;32m   1039\u001b[0m \u001b[0;34m\u001b[0m\u001b[0m\n\u001b[1;32m   1040\u001b[0m         \u001b[0;32mif\u001b[0m \u001b[0mmessage_body\u001b[0m \u001b[0;32mis\u001b[0m \u001b[0;32mnot\u001b[0m \u001b[0;32mNone\u001b[0m\u001b[0;34m:\u001b[0m\u001b[0;34m\u001b[0m\u001b[0;34m\u001b[0m\u001b[0m\n",
            "\u001b[0;32m/usr/lib/python3.10/http/client.py\u001b[0m in \u001b[0;36msend\u001b[0;34m(self, data)\u001b[0m\n\u001b[1;32m    974\u001b[0m         \u001b[0;32mif\u001b[0m \u001b[0mself\u001b[0m\u001b[0;34m.\u001b[0m\u001b[0msock\u001b[0m \u001b[0;32mis\u001b[0m \u001b[0;32mNone\u001b[0m\u001b[0;34m:\u001b[0m\u001b[0;34m\u001b[0m\u001b[0;34m\u001b[0m\u001b[0m\n\u001b[1;32m    975\u001b[0m             \u001b[0;32mif\u001b[0m \u001b[0mself\u001b[0m\u001b[0;34m.\u001b[0m\u001b[0mauto_open\u001b[0m\u001b[0;34m:\u001b[0m\u001b[0;34m\u001b[0m\u001b[0;34m\u001b[0m\u001b[0m\n\u001b[0;32m--> 976\u001b[0;31m                 \u001b[0mself\u001b[0m\u001b[0;34m.\u001b[0m\u001b[0mconnect\u001b[0m\u001b[0;34m(\u001b[0m\u001b[0;34m)\u001b[0m\u001b[0;34m\u001b[0m\u001b[0;34m\u001b[0m\u001b[0m\n\u001b[0m\u001b[1;32m    977\u001b[0m             \u001b[0;32melse\u001b[0m\u001b[0;34m:\u001b[0m\u001b[0;34m\u001b[0m\u001b[0;34m\u001b[0m\u001b[0m\n\u001b[1;32m    978\u001b[0m                 \u001b[0;32mraise\u001b[0m \u001b[0mNotConnected\u001b[0m\u001b[0;34m(\u001b[0m\u001b[0;34m)\u001b[0m\u001b[0;34m\u001b[0m\u001b[0;34m\u001b[0m\u001b[0m\n",
            "\u001b[0;32m/usr/lib/python3.10/http/client.py\u001b[0m in \u001b[0;36mconnect\u001b[0;34m(self)\u001b[0m\n\u001b[1;32m    940\u001b[0m         \u001b[0;34m\"\"\"Connect to the host and port specified in __init__.\"\"\"\u001b[0m\u001b[0;34m\u001b[0m\u001b[0;34m\u001b[0m\u001b[0m\n\u001b[1;32m    941\u001b[0m         \u001b[0msys\u001b[0m\u001b[0;34m.\u001b[0m\u001b[0maudit\u001b[0m\u001b[0;34m(\u001b[0m\u001b[0;34m\"http.client.connect\"\u001b[0m\u001b[0;34m,\u001b[0m \u001b[0mself\u001b[0m\u001b[0;34m,\u001b[0m \u001b[0mself\u001b[0m\u001b[0;34m.\u001b[0m\u001b[0mhost\u001b[0m\u001b[0;34m,\u001b[0m \u001b[0mself\u001b[0m\u001b[0;34m.\u001b[0m\u001b[0mport\u001b[0m\u001b[0;34m)\u001b[0m\u001b[0;34m\u001b[0m\u001b[0;34m\u001b[0m\u001b[0m\n\u001b[0;32m--> 942\u001b[0;31m         self.sock = self._create_connection(\n\u001b[0m\u001b[1;32m    943\u001b[0m             (self.host,self.port), self.timeout, self.source_address)\n\u001b[1;32m    944\u001b[0m         \u001b[0;31m# Might fail in OSs that don't implement TCP_NODELAY\u001b[0m\u001b[0;34m\u001b[0m\u001b[0;34m\u001b[0m\u001b[0m\n",
            "\u001b[0;32m/usr/lib/python3.10/socket.py\u001b[0m in \u001b[0;36mcreate_connection\u001b[0;34m(address, timeout, source_address)\u001b[0m\n\u001b[1;32m    831\u001b[0m             \u001b[0;32mif\u001b[0m \u001b[0msource_address\u001b[0m\u001b[0;34m:\u001b[0m\u001b[0;34m\u001b[0m\u001b[0;34m\u001b[0m\u001b[0m\n\u001b[1;32m    832\u001b[0m                 \u001b[0msock\u001b[0m\u001b[0;34m.\u001b[0m\u001b[0mbind\u001b[0m\u001b[0;34m(\u001b[0m\u001b[0msource_address\u001b[0m\u001b[0;34m)\u001b[0m\u001b[0;34m\u001b[0m\u001b[0;34m\u001b[0m\u001b[0m\n\u001b[0;32m--> 833\u001b[0;31m             \u001b[0msock\u001b[0m\u001b[0;34m.\u001b[0m\u001b[0mconnect\u001b[0m\u001b[0;34m(\u001b[0m\u001b[0msa\u001b[0m\u001b[0;34m)\u001b[0m\u001b[0;34m\u001b[0m\u001b[0;34m\u001b[0m\u001b[0m\n\u001b[0m\u001b[1;32m    834\u001b[0m             \u001b[0;31m# Break explicitly a reference cycle\u001b[0m\u001b[0;34m\u001b[0m\u001b[0;34m\u001b[0m\u001b[0m\n\u001b[1;32m    835\u001b[0m             \u001b[0merr\u001b[0m \u001b[0;34m=\u001b[0m \u001b[0;32mNone\u001b[0m\u001b[0;34m\u001b[0m\u001b[0;34m\u001b[0m\u001b[0m\n",
            "\u001b[0;31mKeyboardInterrupt\u001b[0m: "
          ]
        }
      ],
      "source": [
        "url = 'http://www.vcsc.virginia.gov/pretrialdataproject/October%202017%20Cohort_Virginia%20Pretrial%20Data%20Project_Deidentified%20FINAL%20Update_10272021.csv'\n",
        "df = pd.read_csv(url,low_memory=False) # Pandas downloads and loads the .csv file for you"
      ]
    },
    {
      "cell_type": "markdown",
      "id": "023e284f",
      "metadata": {
        "id": "023e284f"
      },
      "source": [
        "## Getting Started With Data\n",
        "- The most basic questions are, How many observations? How many variables, and what are they named?\n",
        "- Every Pandas dataframe has a set of class attributes that are useful for looking at:\n",
        "    - `.shape`: The number of rows and columns\n",
        "    - `.columns`: The names of the columns (`print(df.columns.tolist())` will print all of them)\n",
        "    - `.dtypes`: The types of the variables\n",
        "- To get into the data, you have to look at the *codebook* and read both the definitions of the variables and what kinds of values they can take"
      ]
    },
    {
      "cell_type": "code",
      "execution_count": 7,
      "id": "1201a57f-fee2-4ab8-b1f6-9dfdc952c402",
      "metadata": {
        "id": "1201a57f-fee2-4ab8-b1f6-9dfdc952c402",
        "outputId": "53b82c5b-b606-4659-a68e-9a1c49727f33",
        "scrolled": true,
        "colab": {
          "base_uri": "https://localhost:8080/",
          "height": 399
        }
      },
      "outputs": [
        {
          "output_type": "error",
          "ename": "FileNotFoundError",
          "evalue": "[Errno 2] No such file or directory: './data/VirginiaPretrialData2017.csv'",
          "traceback": [
            "\u001b[0;31m---------------------------------------------------------------------------\u001b[0m",
            "\u001b[0;31mFileNotFoundError\u001b[0m                         Traceback (most recent call last)",
            "\u001b[0;32m<ipython-input-7-be2acf3e9f74>\u001b[0m in \u001b[0;36m<cell line: 1>\u001b[0;34m()\u001b[0m\n\u001b[0;32m----> 1\u001b[0;31m \u001b[0mdf\u001b[0m \u001b[0;34m=\u001b[0m \u001b[0mpd\u001b[0m\u001b[0;34m.\u001b[0m\u001b[0mread_csv\u001b[0m\u001b[0;34m(\u001b[0m\u001b[0;34m'./data/VirginiaPretrialData2017.csv'\u001b[0m\u001b[0;34m,\u001b[0m\u001b[0mlow_memory\u001b[0m\u001b[0;34m=\u001b[0m\u001b[0;32mFalse\u001b[0m\u001b[0;34m)\u001b[0m \u001b[0;31m# Load the data\u001b[0m\u001b[0;34m\u001b[0m\u001b[0;34m\u001b[0m\u001b[0m\n\u001b[0m\u001b[1;32m      2\u001b[0m \u001b[0mprint\u001b[0m\u001b[0;34m(\u001b[0m\u001b[0mdf\u001b[0m\u001b[0;34m.\u001b[0m\u001b[0mshape\u001b[0m\u001b[0;34m,\u001b[0m \u001b[0;34m'\\n'\u001b[0m\u001b[0;34m)\u001b[0m \u001b[0;31m# List the dimensions of df\u001b[0m\u001b[0;34m\u001b[0m\u001b[0;34m\u001b[0m\u001b[0m\n\u001b[1;32m      3\u001b[0m \u001b[0mprint\u001b[0m\u001b[0;34m(\u001b[0m\u001b[0mdf\u001b[0m\u001b[0;34m.\u001b[0m\u001b[0mdtypes\u001b[0m\u001b[0;34m,\u001b[0m \u001b[0;34m'\\n'\u001b[0m\u001b[0;34m)\u001b[0m \u001b[0;31m# The types of the variables; `object` is a bad sign\u001b[0m\u001b[0;34m\u001b[0m\u001b[0;34m\u001b[0m\u001b[0m\n\u001b[1;32m      4\u001b[0m \u001b[0mprint\u001b[0m\u001b[0;34m(\u001b[0m\u001b[0mdf\u001b[0m\u001b[0;34m.\u001b[0m\u001b[0mcolumns\u001b[0m\u001b[0;34m[\u001b[0m\u001b[0;36m1\u001b[0m\u001b[0;34m:\u001b[0m\u001b[0;36m5\u001b[0m\u001b[0;34m]\u001b[0m\u001b[0;34m,\u001b[0m \u001b[0;34m'\\n'\u001b[0m\u001b[0;34m)\u001b[0m \u001b[0;31m# First five column names\u001b[0m\u001b[0;34m\u001b[0m\u001b[0;34m\u001b[0m\u001b[0m\n",
            "\u001b[0;32m/usr/local/lib/python3.10/dist-packages/pandas/util/_decorators.py\u001b[0m in \u001b[0;36mwrapper\u001b[0;34m(*args, **kwargs)\u001b[0m\n\u001b[1;32m    209\u001b[0m                 \u001b[0;32melse\u001b[0m\u001b[0;34m:\u001b[0m\u001b[0;34m\u001b[0m\u001b[0;34m\u001b[0m\u001b[0m\n\u001b[1;32m    210\u001b[0m                     \u001b[0mkwargs\u001b[0m\u001b[0;34m[\u001b[0m\u001b[0mnew_arg_name\u001b[0m\u001b[0;34m]\u001b[0m \u001b[0;34m=\u001b[0m \u001b[0mnew_arg_value\u001b[0m\u001b[0;34m\u001b[0m\u001b[0;34m\u001b[0m\u001b[0m\n\u001b[0;32m--> 211\u001b[0;31m             \u001b[0;32mreturn\u001b[0m \u001b[0mfunc\u001b[0m\u001b[0;34m(\u001b[0m\u001b[0;34m*\u001b[0m\u001b[0margs\u001b[0m\u001b[0;34m,\u001b[0m \u001b[0;34m**\u001b[0m\u001b[0mkwargs\u001b[0m\u001b[0;34m)\u001b[0m\u001b[0;34m\u001b[0m\u001b[0;34m\u001b[0m\u001b[0m\n\u001b[0m\u001b[1;32m    212\u001b[0m \u001b[0;34m\u001b[0m\u001b[0m\n\u001b[1;32m    213\u001b[0m         \u001b[0;32mreturn\u001b[0m \u001b[0mcast\u001b[0m\u001b[0;34m(\u001b[0m\u001b[0mF\u001b[0m\u001b[0;34m,\u001b[0m \u001b[0mwrapper\u001b[0m\u001b[0;34m)\u001b[0m\u001b[0;34m\u001b[0m\u001b[0;34m\u001b[0m\u001b[0m\n",
            "\u001b[0;32m/usr/local/lib/python3.10/dist-packages/pandas/util/_decorators.py\u001b[0m in \u001b[0;36mwrapper\u001b[0;34m(*args, **kwargs)\u001b[0m\n\u001b[1;32m    329\u001b[0m                     \u001b[0mstacklevel\u001b[0m\u001b[0;34m=\u001b[0m\u001b[0mfind_stack_level\u001b[0m\u001b[0;34m(\u001b[0m\u001b[0;34m)\u001b[0m\u001b[0;34m,\u001b[0m\u001b[0;34m\u001b[0m\u001b[0;34m\u001b[0m\u001b[0m\n\u001b[1;32m    330\u001b[0m                 )\n\u001b[0;32m--> 331\u001b[0;31m             \u001b[0;32mreturn\u001b[0m \u001b[0mfunc\u001b[0m\u001b[0;34m(\u001b[0m\u001b[0;34m*\u001b[0m\u001b[0margs\u001b[0m\u001b[0;34m,\u001b[0m \u001b[0;34m**\u001b[0m\u001b[0mkwargs\u001b[0m\u001b[0;34m)\u001b[0m\u001b[0;34m\u001b[0m\u001b[0;34m\u001b[0m\u001b[0m\n\u001b[0m\u001b[1;32m    332\u001b[0m \u001b[0;34m\u001b[0m\u001b[0m\n\u001b[1;32m    333\u001b[0m         \u001b[0;31m# error: \"Callable[[VarArg(Any), KwArg(Any)], Any]\" has no\u001b[0m\u001b[0;34m\u001b[0m\u001b[0;34m\u001b[0m\u001b[0m\n",
            "\u001b[0;32m/usr/local/lib/python3.10/dist-packages/pandas/io/parsers/readers.py\u001b[0m in \u001b[0;36mread_csv\u001b[0;34m(filepath_or_buffer, sep, delimiter, header, names, index_col, usecols, squeeze, prefix, mangle_dupe_cols, dtype, engine, converters, true_values, false_values, skipinitialspace, skiprows, skipfooter, nrows, na_values, keep_default_na, na_filter, verbose, skip_blank_lines, parse_dates, infer_datetime_format, keep_date_col, date_parser, dayfirst, cache_dates, iterator, chunksize, compression, thousands, decimal, lineterminator, quotechar, quoting, doublequote, escapechar, comment, encoding, encoding_errors, dialect, error_bad_lines, warn_bad_lines, on_bad_lines, delim_whitespace, low_memory, memory_map, float_precision, storage_options)\u001b[0m\n\u001b[1;32m    948\u001b[0m     \u001b[0mkwds\u001b[0m\u001b[0;34m.\u001b[0m\u001b[0mupdate\u001b[0m\u001b[0;34m(\u001b[0m\u001b[0mkwds_defaults\u001b[0m\u001b[0;34m)\u001b[0m\u001b[0;34m\u001b[0m\u001b[0;34m\u001b[0m\u001b[0m\n\u001b[1;32m    949\u001b[0m \u001b[0;34m\u001b[0m\u001b[0m\n\u001b[0;32m--> 950\u001b[0;31m     \u001b[0;32mreturn\u001b[0m \u001b[0m_read\u001b[0m\u001b[0;34m(\u001b[0m\u001b[0mfilepath_or_buffer\u001b[0m\u001b[0;34m,\u001b[0m \u001b[0mkwds\u001b[0m\u001b[0;34m)\u001b[0m\u001b[0;34m\u001b[0m\u001b[0;34m\u001b[0m\u001b[0m\n\u001b[0m\u001b[1;32m    951\u001b[0m \u001b[0;34m\u001b[0m\u001b[0m\n\u001b[1;32m    952\u001b[0m \u001b[0;34m\u001b[0m\u001b[0m\n",
            "\u001b[0;32m/usr/local/lib/python3.10/dist-packages/pandas/io/parsers/readers.py\u001b[0m in \u001b[0;36m_read\u001b[0;34m(filepath_or_buffer, kwds)\u001b[0m\n\u001b[1;32m    603\u001b[0m \u001b[0;34m\u001b[0m\u001b[0m\n\u001b[1;32m    604\u001b[0m     \u001b[0;31m# Create the parser.\u001b[0m\u001b[0;34m\u001b[0m\u001b[0;34m\u001b[0m\u001b[0m\n\u001b[0;32m--> 605\u001b[0;31m     \u001b[0mparser\u001b[0m \u001b[0;34m=\u001b[0m \u001b[0mTextFileReader\u001b[0m\u001b[0;34m(\u001b[0m\u001b[0mfilepath_or_buffer\u001b[0m\u001b[0;34m,\u001b[0m \u001b[0;34m**\u001b[0m\u001b[0mkwds\u001b[0m\u001b[0;34m)\u001b[0m\u001b[0;34m\u001b[0m\u001b[0;34m\u001b[0m\u001b[0m\n\u001b[0m\u001b[1;32m    606\u001b[0m \u001b[0;34m\u001b[0m\u001b[0m\n\u001b[1;32m    607\u001b[0m     \u001b[0;32mif\u001b[0m \u001b[0mchunksize\u001b[0m \u001b[0;32mor\u001b[0m \u001b[0miterator\u001b[0m\u001b[0;34m:\u001b[0m\u001b[0;34m\u001b[0m\u001b[0;34m\u001b[0m\u001b[0m\n",
            "\u001b[0;32m/usr/local/lib/python3.10/dist-packages/pandas/io/parsers/readers.py\u001b[0m in \u001b[0;36m__init__\u001b[0;34m(self, f, engine, **kwds)\u001b[0m\n\u001b[1;32m   1440\u001b[0m \u001b[0;34m\u001b[0m\u001b[0m\n\u001b[1;32m   1441\u001b[0m         \u001b[0mself\u001b[0m\u001b[0;34m.\u001b[0m\u001b[0mhandles\u001b[0m\u001b[0;34m:\u001b[0m \u001b[0mIOHandles\u001b[0m \u001b[0;34m|\u001b[0m \u001b[0;32mNone\u001b[0m \u001b[0;34m=\u001b[0m \u001b[0;32mNone\u001b[0m\u001b[0;34m\u001b[0m\u001b[0;34m\u001b[0m\u001b[0m\n\u001b[0;32m-> 1442\u001b[0;31m         \u001b[0mself\u001b[0m\u001b[0;34m.\u001b[0m\u001b[0m_engine\u001b[0m \u001b[0;34m=\u001b[0m \u001b[0mself\u001b[0m\u001b[0;34m.\u001b[0m\u001b[0m_make_engine\u001b[0m\u001b[0;34m(\u001b[0m\u001b[0mf\u001b[0m\u001b[0;34m,\u001b[0m \u001b[0mself\u001b[0m\u001b[0;34m.\u001b[0m\u001b[0mengine\u001b[0m\u001b[0;34m)\u001b[0m\u001b[0;34m\u001b[0m\u001b[0;34m\u001b[0m\u001b[0m\n\u001b[0m\u001b[1;32m   1443\u001b[0m \u001b[0;34m\u001b[0m\u001b[0m\n\u001b[1;32m   1444\u001b[0m     \u001b[0;32mdef\u001b[0m \u001b[0mclose\u001b[0m\u001b[0;34m(\u001b[0m\u001b[0mself\u001b[0m\u001b[0;34m)\u001b[0m \u001b[0;34m->\u001b[0m \u001b[0;32mNone\u001b[0m\u001b[0;34m:\u001b[0m\u001b[0;34m\u001b[0m\u001b[0;34m\u001b[0m\u001b[0m\n",
            "\u001b[0;32m/usr/local/lib/python3.10/dist-packages/pandas/io/parsers/readers.py\u001b[0m in \u001b[0;36m_make_engine\u001b[0;34m(self, f, engine)\u001b[0m\n\u001b[1;32m   1733\u001b[0m                 \u001b[0;32mif\u001b[0m \u001b[0;34m\"b\"\u001b[0m \u001b[0;32mnot\u001b[0m \u001b[0;32min\u001b[0m \u001b[0mmode\u001b[0m\u001b[0;34m:\u001b[0m\u001b[0;34m\u001b[0m\u001b[0;34m\u001b[0m\u001b[0m\n\u001b[1;32m   1734\u001b[0m                     \u001b[0mmode\u001b[0m \u001b[0;34m+=\u001b[0m \u001b[0;34m\"b\"\u001b[0m\u001b[0;34m\u001b[0m\u001b[0;34m\u001b[0m\u001b[0m\n\u001b[0;32m-> 1735\u001b[0;31m             self.handles = get_handle(\n\u001b[0m\u001b[1;32m   1736\u001b[0m                 \u001b[0mf\u001b[0m\u001b[0;34m,\u001b[0m\u001b[0;34m\u001b[0m\u001b[0;34m\u001b[0m\u001b[0m\n\u001b[1;32m   1737\u001b[0m                 \u001b[0mmode\u001b[0m\u001b[0;34m,\u001b[0m\u001b[0;34m\u001b[0m\u001b[0;34m\u001b[0m\u001b[0m\n",
            "\u001b[0;32m/usr/local/lib/python3.10/dist-packages/pandas/io/common.py\u001b[0m in \u001b[0;36mget_handle\u001b[0;34m(path_or_buf, mode, encoding, compression, memory_map, is_text, errors, storage_options)\u001b[0m\n\u001b[1;32m    854\u001b[0m         \u001b[0;32mif\u001b[0m \u001b[0mioargs\u001b[0m\u001b[0;34m.\u001b[0m\u001b[0mencoding\u001b[0m \u001b[0;32mand\u001b[0m \u001b[0;34m\"b\"\u001b[0m \u001b[0;32mnot\u001b[0m \u001b[0;32min\u001b[0m \u001b[0mioargs\u001b[0m\u001b[0;34m.\u001b[0m\u001b[0mmode\u001b[0m\u001b[0;34m:\u001b[0m\u001b[0;34m\u001b[0m\u001b[0;34m\u001b[0m\u001b[0m\n\u001b[1;32m    855\u001b[0m             \u001b[0;31m# Encoding\u001b[0m\u001b[0;34m\u001b[0m\u001b[0;34m\u001b[0m\u001b[0m\n\u001b[0;32m--> 856\u001b[0;31m             handle = open(\n\u001b[0m\u001b[1;32m    857\u001b[0m                 \u001b[0mhandle\u001b[0m\u001b[0;34m,\u001b[0m\u001b[0;34m\u001b[0m\u001b[0;34m\u001b[0m\u001b[0m\n\u001b[1;32m    858\u001b[0m                 \u001b[0mioargs\u001b[0m\u001b[0;34m.\u001b[0m\u001b[0mmode\u001b[0m\u001b[0;34m,\u001b[0m\u001b[0;34m\u001b[0m\u001b[0;34m\u001b[0m\u001b[0m\n",
            "\u001b[0;31mFileNotFoundError\u001b[0m: [Errno 2] No such file or directory: './data/VirginiaPretrialData2017.csv'"
          ]
        }
      ],
      "source": [
        "df = pd.read_csv('./data/VirginiaPretrialData2017.csv',low_memory=False) # Load the data\n",
        "print(df.shape, '\\n') # List the dimensions of df\n",
        "print(df.dtypes, '\\n') # The types of the variables; `object` is a bad sign\n",
        "print(df.columns[1:5], '\\n') # First five column names"
      ]
    },
    {
      "cell_type": "markdown",
      "id": "4c043127-e1ff-47ac-918d-69740eeecf1f",
      "metadata": {
        "id": "4c043127-e1ff-47ac-918d-69740eeecf1f"
      },
      "source": [
        "## Visually Inspecting the Dataframe (`.head()`, `.iloc[]`, `.loc[]`)\n",
        "- Whenever you load a data set, you should take a look at its actual values; click on the .csv file in the file explorer panel\n",
        "- A nice way to do this is use the Pandas dataframe method, `df.head()`, but if you have a lot of variables, it can be a bit unwieldy\n",
        "- Jupyter has a data file viewer that represents it as a spreadsheet that can be helpful\n",
        "- If you want to pull particular rows or columns, or otherwise slice the dataframe, you can use the **integer locator class method** `df.iloc[x:y,a:b]` for numeric address and **locator class** `df.loc[row_labels, col_labels]` if you know the names of variables and rows that you want"
      ]
    },
    {
      "cell_type": "code",
      "execution_count": null,
      "id": "5d3c05c1-4f31-42bd-bc2b-2eeebabb089d",
      "metadata": {
        "id": "5d3c05c1-4f31-42bd-bc2b-2eeebabb089d"
      },
      "outputs": [],
      "source": [
        "#df.head()\n",
        "print(df.iloc[0:5,0:5],'\\n') # Show the zero-th to fourth rows/zero-th to seventh columns\n",
        "print(df.loc[0:5,('Defendant_Sex','Defendant_Race')],'\\n') # Show 0:5 of Sex and Race"
      ]
    },
    {
      "cell_type": "markdown",
      "id": "9f7599c7",
      "metadata": {
        "id": "9f7599c7"
      },
      "source": [
        "## The .iloc and .loc Methods\n",
        "- These are fundamentally important --- you will use them thousands of times in the class\n",
        "- They are poorly designed, and it stems from a bad design choice (allowing variable names to be integers)\n",
        "- Other languages and packages (Polars) have more flexible and powerful ways of doing this fundamental task\n",
        "- There are Pandas-specific alternatives like `.filter()`, but the `.loc`/`.iloc` methods are the most similar to other languages"
      ]
    },
    {
      "cell_type": "markdown",
      "id": "92bed5df-55bb-4a71-bca2-22d689be45f0",
      "metadata": {
        "id": "92bed5df-55bb-4a71-bca2-22d689be45f0"
      },
      "source": [
        "## Renaming and Creating Variables\n",
        "- Variable names are often too verbose: `BondAmountAtInitialContact`, `Defendant_IndigencyStatus`, and `CaseType_MostSerChargeinContactEvent_regardlessofFinalDisp` -- you're going to have to type these things dozens or hundreds of times\n",
        "- To rename a variable, you can use `df = df.rename(columns = {oldName:newName})` (be careful to pass strings)\n",
        "- To create a variable, you supply the new name as a string, as if you are indexing, `df[varName]=expression`"
      ]
    },
    {
      "cell_type": "code",
      "execution_count": null,
      "id": "f554cbb3-28d9-4fac-b4b1-d40ea944fa5b",
      "metadata": {
        "id": "f554cbb3-28d9-4fac-b4b1-d40ea944fa5b"
      },
      "outputs": [],
      "source": [
        "df = df.rename(columns = {'BondAmountAtInitialContact':'bond',\n",
        "                    'Defendant_IndigencyStatus':'is_poor',\n",
        "                    'CaseType_MostSerChargeinContactEvent_regardlessofFinalDisp':'case_type',\n",
        "                    'WhetherDefendantWasReleasedPretrial':'released'}) # Rename variables\n",
        "df['age'] = df['Defendant_Age'] # Creating a new variable called age without replacing Defendant_Age"
      ]
    },
    {
      "cell_type": "markdown",
      "id": "af118743",
      "metadata": {
        "id": "af118743"
      },
      "source": [
        "## Exercise (Loading and Renaming)\n",
        "- Load the shark data, `sharks.csv`\n",
        "- What are the dimensions of the data? What are the types of the variables? What variables look interesting?\n",
        "- Use `.head()`, `.iloc[]` and `.loc[]` to take a look at some variables or rows\n",
        "- Rename the `Fatal (Y/N)` to `fatal`\n",
        "- The shark data look bad, but almost *all* real data that haven't already been cleaned look this bad"
      ]
    },
    {
      "cell_type": "code",
      "source": [
        "!  git clone https://github.com/DS3001/wrangling"
      ],
      "metadata": {
        "colab": {
          "base_uri": "https://localhost:8080/"
        },
        "id": "PIjNe4FhiZN7",
        "outputId": "da6b3d08-7c36-4b66-e737-247be8b8e96b"
      },
      "id": "PIjNe4FhiZN7",
      "execution_count": 9,
      "outputs": [
        {
          "output_type": "stream",
          "name": "stdout",
          "text": [
            "Cloning into 'wrangling'...\n",
            "remote: Enumerating objects: 63, done.\u001b[K\n",
            "remote: Counting objects: 100% (24/24), done.\u001b[K\n",
            "remote: Compressing objects: 100% (17/17), done.\u001b[K\n",
            "remote: Total 63 (delta 18), reused 7 (delta 7), pack-reused 39\u001b[K\n",
            "Receiving objects: 100% (63/63), 6.25 MiB | 16.16 MiB/s, done.\n",
            "Resolving deltas: 100% (24/24), done.\n"
          ]
        }
      ]
    },
    {
      "cell_type": "code",
      "source": [
        "sdf = pd.read_csv('./wrangling/data/sharks.csv', low_memory=False)"
      ],
      "metadata": {
        "id": "K1VCr3o5imL5"
      },
      "id": "K1VCr3o5imL5",
      "execution_count": 10,
      "outputs": []
    },
    {
      "cell_type": "code",
      "source": [
        "print(sdf.shape, '\\n') # rows, columns\n",
        "\n",
        "print(sdf.dtypes, '\\n') # data types\n",
        "\n",
        "print(sdf.columns.to_list(), '\\n') # name of columns\n"
      ],
      "metadata": {
        "colab": {
          "base_uri": "https://localhost:8080/"
        },
        "id": "1eLP3IkYjBdX",
        "outputId": "7305b18d-81b3-4790-b296-2693eb4974d5"
      },
      "id": "1eLP3IkYjBdX",
      "execution_count": 11,
      "outputs": [
        {
          "output_type": "stream",
          "name": "stdout",
          "text": [
            "(6462, 257) \n",
            "\n",
            "index             int64\n",
            "Case Number      object\n",
            "Date             object\n",
            "Year            float64\n",
            "Type             object\n",
            "                 ...   \n",
            "Unnamed: 251    float64\n",
            "Unnamed: 252    float64\n",
            "Unnamed: 253    float64\n",
            "Unnamed: 254    float64\n",
            "Unnamed: 255    float64\n",
            "Length: 257, dtype: object \n",
            "\n",
            "['index', 'Case Number', 'Date', 'Year', 'Type', 'Country', 'Area', 'Location', 'Activity', 'Name', 'Unnamed: 9', 'Age', 'Injury', 'Fatal (Y/N)', 'Time', 'Species ', 'Investigator or Source', 'pdf', 'href formula', 'href', 'Case Number.1', 'Case Number.2', 'original order', 'Unnamed: 22', 'Unnamed: 23', 'Unnamed: 24', 'Unnamed: 25', 'Unnamed: 26', 'Unnamed: 27', 'Unnamed: 28', 'Unnamed: 29', 'Unnamed: 30', 'Unnamed: 31', 'Unnamed: 32', 'Unnamed: 33', 'Unnamed: 34', 'Unnamed: 35', 'Unnamed: 36', 'Unnamed: 37', 'Unnamed: 38', 'Unnamed: 39', 'Unnamed: 40', 'Unnamed: 41', 'Unnamed: 42', 'Unnamed: 43', 'Unnamed: 44', 'Unnamed: 45', 'Unnamed: 46', 'Unnamed: 47', 'Unnamed: 48', 'Unnamed: 49', 'Unnamed: 50', 'Unnamed: 51', 'Unnamed: 52', 'Unnamed: 53', 'Unnamed: 54', 'Unnamed: 55', 'Unnamed: 56', 'Unnamed: 57', 'Unnamed: 58', 'Unnamed: 59', 'Unnamed: 60', 'Unnamed: 61', 'Unnamed: 62', 'Unnamed: 63', 'Unnamed: 64', 'Unnamed: 65', 'Unnamed: 66', 'Unnamed: 67', 'Unnamed: 68', 'Unnamed: 69', 'Unnamed: 70', 'Unnamed: 71', 'Unnamed: 72', 'Unnamed: 73', 'Unnamed: 74', 'Unnamed: 75', 'Unnamed: 76', 'Unnamed: 77', 'Unnamed: 78', 'Unnamed: 79', 'Unnamed: 80', 'Unnamed: 81', 'Unnamed: 82', 'Unnamed: 83', 'Unnamed: 84', 'Unnamed: 85', 'Unnamed: 86', 'Unnamed: 87', 'Unnamed: 88', 'Unnamed: 89', 'Unnamed: 90', 'Unnamed: 91', 'Unnamed: 92', 'Unnamed: 93', 'Unnamed: 94', 'Unnamed: 95', 'Unnamed: 96', 'Unnamed: 97', 'Unnamed: 98', 'Unnamed: 99', 'Unnamed: 100', 'Unnamed: 101', 'Unnamed: 102', 'Unnamed: 103', 'Unnamed: 104', 'Unnamed: 105', 'Unnamed: 106', 'Unnamed: 107', 'Unnamed: 108', 'Unnamed: 109', 'Unnamed: 110', 'Unnamed: 111', 'Unnamed: 112', 'Unnamed: 113', 'Unnamed: 114', 'Unnamed: 115', 'Unnamed: 116', 'Unnamed: 117', 'Unnamed: 118', 'Unnamed: 119', 'Unnamed: 120', 'Unnamed: 121', 'Unnamed: 122', 'Unnamed: 123', 'Unnamed: 124', 'Unnamed: 125', 'Unnamed: 126', 'Unnamed: 127', 'Unnamed: 128', 'Unnamed: 129', 'Unnamed: 130', 'Unnamed: 131', 'Unnamed: 132', 'Unnamed: 133', 'Unnamed: 134', 'Unnamed: 135', 'Unnamed: 136', 'Unnamed: 137', 'Unnamed: 138', 'Unnamed: 139', 'Unnamed: 140', 'Unnamed: 141', 'Unnamed: 142', 'Unnamed: 143', 'Unnamed: 144', 'Unnamed: 145', 'Unnamed: 146', 'Unnamed: 147', 'Unnamed: 148', 'Unnamed: 149', 'Unnamed: 150', 'Unnamed: 151', 'Unnamed: 152', 'Unnamed: 153', 'Unnamed: 154', 'Unnamed: 155', 'Unnamed: 156', 'Unnamed: 157', 'Unnamed: 158', 'Unnamed: 159', 'Unnamed: 160', 'Unnamed: 161', 'Unnamed: 162', 'Unnamed: 163', 'Unnamed: 164', 'Unnamed: 165', 'Unnamed: 166', 'Unnamed: 167', 'Unnamed: 168', 'Unnamed: 169', 'Unnamed: 170', 'Unnamed: 171', 'Unnamed: 172', 'Unnamed: 173', 'Unnamed: 174', 'Unnamed: 175', 'Unnamed: 176', 'Unnamed: 177', 'Unnamed: 178', 'Unnamed: 179', 'Unnamed: 180', 'Unnamed: 181', 'Unnamed: 182', 'Unnamed: 183', 'Unnamed: 184', 'Unnamed: 185', 'Unnamed: 186', 'Unnamed: 187', 'Unnamed: 188', 'Unnamed: 189', 'Unnamed: 190', 'Unnamed: 191', 'Unnamed: 192', 'Unnamed: 193', 'Unnamed: 194', 'Unnamed: 195', 'Unnamed: 196', 'Unnamed: 197', 'Unnamed: 198', 'Unnamed: 199', 'Unnamed: 200', 'Unnamed: 201', 'Unnamed: 202', 'Unnamed: 203', 'Unnamed: 204', 'Unnamed: 205', 'Unnamed: 206', 'Unnamed: 207', 'Unnamed: 208', 'Unnamed: 209', 'Unnamed: 210', 'Unnamed: 211', 'Unnamed: 212', 'Unnamed: 213', 'Unnamed: 214', 'Unnamed: 215', 'Unnamed: 216', 'Unnamed: 217', 'Unnamed: 218', 'Unnamed: 219', 'Unnamed: 220', 'Unnamed: 221', 'Unnamed: 222', 'Unnamed: 223', 'Unnamed: 224', 'Unnamed: 225', 'Unnamed: 226', 'Unnamed: 227', 'Unnamed: 228', 'Unnamed: 229', 'Unnamed: 230', 'Unnamed: 231', 'Unnamed: 232', 'Unnamed: 233', 'Unnamed: 234', 'Unnamed: 235', 'Unnamed: 236', 'Unnamed: 237', 'Unnamed: 238', 'Unnamed: 239', 'Unnamed: 240', 'Unnamed: 241', 'Unnamed: 242', 'Unnamed: 243', 'Unnamed: 244', 'Unnamed: 245', 'Unnamed: 246', 'Unnamed: 247', 'Unnamed: 248', 'Unnamed: 249', 'Unnamed: 250', 'Unnamed: 251', 'Unnamed: 252', 'Unnamed: 253', 'Unnamed: 254', 'Unnamed: 255'] \n",
            "\n"
          ]
        }
      ]
    },
    {
      "cell_type": "markdown",
      "id": "f18bbc16-9782-4662-b139-848988e5d785",
      "metadata": {
        "id": "f18bbc16-9782-4662-b139-848988e5d785"
      },
      "source": [
        "## Basic Taxomony of Variables\n",
        "- A **numeric variable** takes real number values like -1 or 5.125 and has units, so magnitudes can at least be compared (e.g. Temperature (in Fahrenheit), Salary (in dollars), Weight (thousands of pounds), Counts (numbers of students))\n",
        "- With a **categorical variable**, there are a finite number of distinct categories the variable might take (e.g. Enrolled in College/University or Not, Alive/Dead, Animal Species, Make of a Car)\n",
        "    - There are categorical *variables* that take numeric *values*, but their units are meaningless (e.g. Zip Code, Area Code, NAICS)\n",
        "- There are times where the appropriate thing to do is model a numeric as a categorical (e.g. grade levels in school are ordered...?)\n",
        "- When a categorical variable takes binary values (e.g. alive/dead), we typically represent it with a **dummy variable** which takes the numeric value 0 or 1 (e.g. `alive == 1`, `dead == 0`)"
      ]
    },
    {
      "cell_type": "markdown",
      "id": "8c05baca-cee7-4027-8fc8-ef9b0fd35e1d",
      "metadata": {
        "id": "8c05baca-cee7-4027-8fc8-ef9b0fd35e1d"
      },
      "source": [
        "## Unique Values, Frequency Tables, Histograms\n",
        "- Looking at a column of numbers can often be unproductive, especially if there are many observations\n",
        "- The best tools to automate your understanding of a variable are:\n",
        "    - `df[var].unique()`: Provides a list of the unique values occuring for that variable\n",
        "    - `df[var].value_counts()`: Tabulates the number of times each unique value occurs\n",
        "    - `df[var].hist()`: Plots the value counts as a bar graph\n",
        "- `.unique()` is, in particular, extremely useful for learning how dirty the data is"
      ]
    },
    {
      "cell_type": "code",
      "execution_count": null,
      "id": "9d0721d3-988d-4e17-b0f9-211f9c42d60b",
      "metadata": {
        "id": "9d0721d3-988d-4e17-b0f9-211f9c42d60b"
      },
      "outputs": [],
      "source": [
        "df['sex'] = df['Defendant_Sex'] # Categorical variable example\n",
        "var = 'sex'\n",
        "print(df[var].unique(),'\\n') # 'n' is not listed in the codebook\n",
        "print(df[var].value_counts(), '\\n') #\n",
        "print(df[var].hist(), '\\n') # About 72% of observations are male"
      ]
    },
    {
      "cell_type": "code",
      "execution_count": null,
      "id": "ff232acc-f62c-4361-a554-aaa13e1f9a20",
      "metadata": {
        "id": "ff232acc-f62c-4361-a554-aaa13e1f9a20"
      },
      "outputs": [],
      "source": [
        "var = 'is_poor' # A dummy variable\n",
        "print(df[var].unique(),'\\n') # Notice these gooses have already messed up their coding\n",
        "print(df[var].value_counts(), '\\n') # Look at the 9 and 99: That is awful\n",
        "print(df[var].hist(), '\\n') # What is \"bad\" about this plot?"
      ]
    },
    {
      "cell_type": "code",
      "execution_count": null,
      "id": "6ea94c03-b1cd-460b-a315-8b1aaff80aef",
      "metadata": {
        "id": "6ea94c03-b1cd-460b-a315-8b1aaff80aef"
      },
      "outputs": [],
      "source": [
        "var = 'age' # A numeric variable\n",
        "print(df[var].unique(),'\\n') # Do you see some problem values?\n",
        "print(df[var].hist(), '\\n') # This does not look very good."
      ]
    },
    {
      "cell_type": "markdown",
      "id": "9510d164-1e51-4202-937d-7c2fe4a561c9",
      "metadata": {
        "id": "9510d164-1e51-4202-937d-7c2fe4a561c9"
      },
      "source": [
        "## Exercise (Examining the Data)\n",
        "- What type (numeric, categorical, dummy) are each of the variables in the shark data?\n",
        "- Use `.unique()`, `.value_counts()` and `.hist()` to take a look at variables that interest you in the shark data (Type, Activity, Year, Fatal, Age, Country are a good start)\n",
        "- What patterns or features of the data jump out at you?\n",
        "- Which variables are relatively clean? Which are relatively dirty? Which do you think could be salvaged for interesting analysis?"
      ]
    },
    {
      "cell_type": "code",
      "source": [
        "print(sdf.columns.to_list())\n",
        "\n",
        "var = \"Fatal (Y/N)\"\n",
        "print(sdf[var],'\\n')\n",
        "sdf[var].unique()\n",
        "sdf[var].value_counts()"
      ],
      "metadata": {
        "id": "fbU332ASpJ8M"
      },
      "id": "fbU332ASpJ8M",
      "execution_count": null,
      "outputs": []
    },
    {
      "cell_type": "markdown",
      "id": "ba9c2510",
      "metadata": {
        "id": "ba9c2510"
      },
      "source": [
        "## Missing Data\n",
        "- Data are *missing* if their values are not recorded in the dataset\n",
        "- Data are typically missing in different ways: There might simply be no recorded value at all -- `... , , ...` -- in the data or it might be recorded but as a specific missing value value code like `\"NA\"` or `-999` or `Don't Know` or `Refusal` --- **check the codebook**\n",
        "- We can't really get started on doing interesting things if the data are full of missings: Pandas will just treat the variable as an object\n",
        "- Handling missing data is the most important issue when you clean a data set"
      ]
    },
    {
      "cell_type": "markdown",
      "id": "26ba6ebd",
      "metadata": {
        "id": "26ba6ebd"
      },
      "source": [
        "## Why do we care about missing data?\n",
        "- Abraham Wald was a statistician during WWII, working for the United States. They asked him to solve a problem. Planes would come in after a battle, hit from enemy fire:\n",
        "\n",
        "<img src=\"https://github.com/DS3001/wrangling/blob/main/plane.png?raw=1\" width='400' height='400' />\n",
        "\n",
        "- Where does additional armor go to improve odds of survival?"
      ]
    },
    {
      "cell_type": "markdown",
      "id": "39cd76dc-06da-472c-9798-851288a001c2",
      "metadata": {
        "id": "39cd76dc-06da-472c-9798-851288a001c2"
      },
      "source": [
        "## Other Missing Data Examples\n",
        "- Other examples:\n",
        "    - People who get married have higher salaries, on average\n",
        "    - People who drink wine have longer lifespans, on average\n",
        "    - Use of cannabis and psychedelic drugs has been linked to mental illness\n",
        "    - Many places that imposed stricter pandemic protocols had worse outcomes than places that didn't (e.g. NYC vs Cville)\n",
        "- In social science, every interesting problem is fundamentally a missing data issue\n",
        "- \"Correlation does not imply causation\" isn't a vibe or slogan, it's a mathematical reality with quantitative models and tools for measuring and correcting for the bias"
      ]
    },
    {
      "cell_type": "markdown",
      "id": "066ea97f-6226-4a4b-8eed-e7b5369f7a77",
      "metadata": {
        "id": "066ea97f-6226-4a4b-8eed-e7b5369f7a77"
      },
      "source": [
        "## `nan`'s and Pandas\n",
        "- In Pandas, there are two options for representing missing values\n",
        "    - The default is to treat it as an `np.nan` from the NumPy package: \"Not-a-number\", and its type is `float`\n",
        "    - Pandas can also treat a missing value as a `None`: An empty/null object without a type or value\n",
        "- We want to responsibly deal with the presence of the missing values without making bad choices that interfere with subsequent analysis\n",
        "- You will often have to add the `.nan`s yourself; Pandas brings a lot of empty variable entries in as an empty string"
      ]
    },
    {
      "cell_type": "markdown",
      "id": "09047859-9149-4b23-a7c2-9d4583651133",
      "metadata": {
        "id": "09047859-9149-4b23-a7c2-9d4583651133"
      },
      "source": [
        "## Exercise (Detecting Missing Data)\n",
        "- What is the missing data situation in the shark data? Are some variables particularly good or bad? Are the variables reasonably clean?\n",
        "- Look, in particular, at `Year`, `Age`, `Type`, `Activity`, and `Species`\n",
        "- How did Pandas import the variables? How did it handle the missing values?"
      ]
    },
    {
      "cell_type": "code",
      "source": [
        "sdf['Fatal (Y/N)'].unique()\n",
        "\n",
        "sdf['Fatal (Y/N)'].value_counts()"
      ],
      "metadata": {
        "id": "Nlvn5bYF0EvJ",
        "outputId": "de5d5037-bea2-4f19-88c5-684f4e10df60",
        "colab": {
          "base_uri": "https://localhost:8080/"
        }
      },
      "id": "Nlvn5bYF0EvJ",
      "execution_count": 14,
      "outputs": [
        {
          "output_type": "execute_result",
          "data": {
            "text/plain": [
              "N          4439\n",
              "Y          1400\n",
              "UNKNOWN      71\n",
              "F             2\n",
              "M             1\n",
              "2017          1\n",
              "y             1\n",
              "Name: Fatal (Y/N), dtype: int64"
            ]
          },
          "metadata": {},
          "execution_count": 14
        }
      ]
    },
    {
      "cell_type": "code",
      "source": [
        "sdf['Age'].unique()"
      ],
      "metadata": {
        "id": "yJSS73yT1BbA",
        "outputId": "20e980be-45da-4276-f0e3-830939354d59",
        "colab": {
          "base_uri": "https://localhost:8080/"
        }
      },
      "id": "yJSS73yT1BbA",
      "execution_count": 16,
      "outputs": [
        {
          "output_type": "execute_result",
          "data": {
            "text/plain": [
              "array([nan, '24', '59', '13', '26', '75', '7', '57', '12', '21', '30s',\n",
              "       '45', '33', '17', '37', '70', '9', '30', '38', '23', '44',\n",
              "       '28 & 22', '32', '35', '20', '29', '22, 57, 31', '22', '60s', '40',\n",
              "       '11', '16', '51', '18', '49', \"20's\", '40s', '8', '64', '19', '43',\n",
              "       '65', '10', '67', '53', '28', '25', '58', '46', '41', '31', '50',\n",
              "       '15', '9 & 60', '48', '36', '42', '55', 'a minor', '14', '6', '62',\n",
              "       '52', '34', '60', '54', '56', '69', '20s', '3', '82', '73', '68',\n",
              "       '39', 'Teen', '47', '61', '66', '72', '27', '71', '63',\n",
              "       '18 months', '50s', 'teen', '77', '74', '28 & 26', '5', '86',\n",
              "       '18 or 20', '12 or 13', '46 & 34', '28, 23 & 30', 'Teens',\n",
              "       '36 & 26', '8 or 10', '84', '30 or 36', '6½', '21 & ?', '33 or 37',\n",
              "       'mid-30s', '23 & 20', '7 & 31', '20?', \"60's\", '32 & 30',\n",
              "       '16 to 18', '87', 'Elderly', 'mid-20s', 'Ca. 33', '21 or 26',\n",
              "       '>50', '18 to 22', 'adult', '9 & 12', '? & 19', '9 months',\n",
              "       '25 to 35', '23 & 26', '1', '(adult)', '33 & 37', '25 or 28',\n",
              "       '37, 67, 35, 27, ? & 27', '21, 34,24 & 35', '30 & 32', '50 & 30',\n",
              "       '17 & 35', 'X', '\"middle-age\"', '13 or 18', '34 & 19', '33 & 26',\n",
              "       '2 to 3 months', '4', 'MAKE LINE GREEN', '81', '\"young\"', '7 or 8',\n",
              "       '78', '17 & 16', 'F', 'Both 11', '9 or 10', 'young', '36 & 23',\n",
              "       'A.M.', '? & 14', '10 or 12', '31 or 33', '2½', '13 or 14'],\n",
              "      dtype=object)"
            ]
          },
          "metadata": {},
          "execution_count": 16
        }
      ]
    },
    {
      "cell_type": "code",
      "source": [
        "print(sdf['Age'].value_counts().to_list())\n",
        "\n",
        "var = 'Age'\n",
        "\n",
        "# How to coerce a variable to numeric:\n",
        "sdf[var] = pd.to_numeric(sdf[var], errors='coerce') # Coerce the variable to numeric\n",
        "\n",
        "# Create a missing dummy:\n",
        "sdf[var+'_nan'] = sdf[var].isnull() # Equals 1 if missing, 0 if non-null\n",
        "\n",
        "# After coercion:\n",
        "print('After coercion: \\n', sdf[var].describe(),'\\n') # Describe the numeric variable\n",
        "sdf[var].hist(bins = 50) # Histogram of the variable values\n",
        "print('Total Missings: \\n', sum(sdf[var+'_nan']),'\\n') # How many missing values are there?"
      ],
      "metadata": {
        "id": "ueoSa6Ex47_Q",
        "outputId": "f68473db-d1f0-438c-9d7b-02284e624e15",
        "colab": {
          "base_uri": "https://localhost:8080/",
          "height": 718
        }
      },
      "id": "ueoSa6Ex47_Q",
      "execution_count": 21,
      "outputs": [
        {
          "output_type": "stream",
          "name": "stdout",
          "text": [
            "[160, 155, 146, 145, 140, 140, 122, 118, 111, 109, 104, 97, 85, 83, 82, 80, 80, 79, 75, 72, 71, 58, 57, 53, 50, 49, 46, 45, 44, 44, 41, 40, 40, 38, 38, 37, 37, 35, 30, 30, 30, 29, 29, 29, 24, 23, 21, 19, 18, 17, 16, 15, 14, 13, 12, 10, 10, 9, 9, 9, 8, 8, 8, 7, 7, 7, 5, 5, 5, 4, 4, 4, 3, 3, 3, 2, 2, 2, 2, 2, 2, 2, 2, 2, 1, 1, 1, 1, 1, 1, 1, 1, 1, 1, 1, 1, 1, 1, 1, 1, 1, 1, 1, 1, 1, 1, 1, 1, 1, 1, 1, 1, 1, 1, 1, 1, 1, 1, 1, 1, 1, 1, 1, 1, 1, 1, 1, 1, 1, 1, 1, 1, 1, 1, 1, 1, 1, 1, 1, 1, 1, 1, 1, 1, 1, 1, 1, 1, 1, 1, 1, 1, 1, 1]\n",
            "After coercion: \n",
            " count    3484.000000\n",
            "mean       27.509759\n",
            "std        14.080474\n",
            "min         1.000000\n",
            "25%        17.000000\n",
            "50%        24.000000\n",
            "75%        35.000000\n",
            "max        87.000000\n",
            "Name: Age, dtype: float64 \n",
            "\n",
            "Total Missings: \n",
            " 2978 \n",
            "\n"
          ]
        },
        {
          "output_type": "display_data",
          "data": {
            "text/plain": [
              "<Figure size 640x480 with 1 Axes>"
            ],
            "image/png": "[encoded data removed]"
          },
          "metadata": {}
        }
      ]
    },
    {
      "cell_type": "markdown",
      "id": "d107debe-6bbc-4686-8917-dd8aeb7638ee",
      "metadata": {
        "id": "d107debe-6bbc-4686-8917-dd8aeb7638ee"
      },
      "source": [
        "## Cleaning Numeric Variables, in Detail\n",
        "- Often, numeric variables include units like dollar signs or separators like commas in their values that need to be cleaned in addition to values that simply aren't recorded: Otherwise, Pandas will drop those values, which can be a big mistake\n",
        "- To clean a numeric variable:\n",
        "    1. Cleaning: Remove symbols like units (e.g. `$`) or separators (e.g. `1,000`) to preserve as much data as possible using `df[var].str.replace(pattern, replacement)`\n",
        "    2. Coercion: Coerce the values to numeric using the Pandas method `pd.to_numeric(var)`\n",
        "    3. Sometimes, Imputation: Often, you'll also want to **both** create a missing value dummy variable using `df[var].isnull()` and **impute** a `value` using `df[var].fillNA(value)` or `df[var].replace(np.nan,value)` to the missing values"
      ]
    },
    {
      "cell_type": "code",
      "execution_count": null,
      "id": "b6426d26-9c70-44f5-99e0-59999157219e",
      "metadata": {
        "id": "b6426d26-9c70-44f5-99e0-59999157219e"
      },
      "outputs": [],
      "source": [
        "var = 'age'\n",
        "print('Before coercion: \\n', df[var].describe(),'\\n') # The age variable is not read by Pandas as a number\n",
        "df[var].hist(bins=50) # Initial histogram; check out the x axis"
      ]
    },
    {
      "cell_type": "code",
      "execution_count": null,
      "id": "a4c75756-d6c9-44f1-a0a4-985cbde72995",
      "metadata": {
        "id": "a4c75756-d6c9-44f1-a0a4-985cbde72995"
      },
      "outputs": [],
      "source": [
        "## Coercing to Numeric\n",
        "var = 'age'\n",
        "\n",
        "# How to coerce a variable to numeric:\n",
        "df[var] = pd.to_numeric(df[var], errors='coerce') # Coerce the variable to numeric\n",
        "\n",
        "# Create a missing dummy:\n",
        "df[var+'_nan'] = df[var].isnull() # Equals 1 if missing, 0 if non-null\n",
        "\n",
        "# After coercion:\n",
        "print('After coercion: \\n', df[var].describe(),'\\n') # Describe the numeric variable\n",
        "df[var].hist(bins = 50) # Histogram of the variable values\n",
        "print('Total Missings: \\n', sum(df[var+'_nan']),'\\n') # How many missing values are there?"
      ]
    },
    {
      "cell_type": "code",
      "execution_count": null,
      "id": "18aec3f9-dd5a-4e91-917d-ada6828a6aba",
      "metadata": {
        "id": "18aec3f9-dd5a-4e91-917d-ada6828a6aba"
      },
      "outputs": [],
      "source": [
        "## An Example of Imputation\n",
        "\n",
        "# Compute the value to impute:\n",
        "impute_value = df[var].median() # Or mean, or whatever\n",
        "\n",
        "# Impute the median of the non-missing data:\n",
        "df[var+'_impute'] = df[var].fillna(impute_value)"
      ]
    },
    {
      "cell_type": "markdown",
      "id": "334694d6-da80-45f3-9a43-6535d06377fc",
      "metadata": {
        "id": "334694d6-da80-45f3-9a43-6535d06377fc"
      },
      "source": [
        "## Exercise (Numeric Handling)\n",
        "- Clean the `Age` variable for the shark data"
      ]
    },
    {
      "cell_type": "markdown",
      "id": "a6439b99-12a0-4ce0-a0be-4afbb5adcd90",
      "metadata": {
        "id": "a6439b99-12a0-4ce0-a0be-4afbb5adcd90"
      },
      "source": [
        "## Cleaning Categorical Variables [Detailed]\n",
        "- To clean a categorical variable,\n",
        "    - Option 1: Replace each type of missing value with a new category that indicates the information about why the variable is missing, as appropriate\n",
        "    - Option 2: Replace missings with `.nan`, and create a dummy for each qualitative type of missing value\n",
        "- With the pretrial data, good examples of this are `case_type` and `is_poor`"
      ]
    },
    {
      "cell_type": "markdown",
      "id": "7393f2f4-aa74-474e-a7aa-a310ab5db288",
      "metadata": {
        "id": "7393f2f4-aa74-474e-a7aa-a310ab5db288"
      },
      "source": [
        "## Multiple Missing Types\n",
        "- Sometimes, data have more than one flavor of missing:\n",
        "\n",
        "<img src=\"https://github.com/DS3001/wrangling/blob/main/NA_codes.jpg?raw=1\" width='400' />\n",
        "\n",
        "- In a case like this, you make sure there's a unique category for each kind of missing that might occur\n",
        "- Why might this matter? Imagine a household survey question about drug use or multiple numerals for a dummy\n",
        "- An example of this is (unintentionally) the `is_poor` variable\n"
      ]
    },
    {
      "cell_type": "code",
      "execution_count": null,
      "id": "2dd7db7c-8291-4fef-8c3f-8187492bbe3c",
      "metadata": {
        "editable": true,
        "id": "2dd7db7c-8291-4fef-8c3f-8187492bbe3c",
        "outputId": "4ce2e496-2253-419e-9733-77be1e78eb42",
        "tags": []
      },
      "outputs": [
        {
          "name": "stdout",
          "output_type": "stream",
          "text": [
            "['F' 'M' 'S' ' ' 'I'] \n",
            "\n",
            "case_type\n",
            "M    13616\n",
            "F     7029\n",
            "S     2309\n",
            "I        6\n",
            "Name: count, dtype: int64 \n",
            "\n",
            "[99  9  0  1] \n",
            "\n",
            "is_poor\n",
            "0.0    11500\n",
            "1.0    10465\n",
            "Name: count, dtype: int64\n"
          ]
        }
      ],
      "source": [
        "var = 'case_type'\n",
        "print(df[var].unique(), '\\n') # A Categorical Example\n",
        "df[var] = df[var].replace(' ',np.nan) # Notice the column replacement\n",
        "print(df[var].value_counts(), '\\n')\n",
        "#\n",
        "var = 'is_poor' # A Dummy Example\n",
        "print(df[var].unique(), '\\n')\n",
        "df[var] = df[var].replace( [9,99], np.nan) # Notice the list\n",
        "print(df[var].value_counts()) # A Dummy Example"
      ]
    },
    {
      "cell_type": "markdown",
      "id": "f33ef581-4062-427f-9c64-349e96a5a9b7",
      "metadata": {
        "id": "f33ef581-4062-427f-9c64-349e96a5a9b7"
      },
      "source": [
        "## Exercise (Categorical Handling)\n",
        "- Clean the `Type` variable as much as possible\n",
        "- Create a dummy variable (0/1 valued) that indicates the shark attack was fatal, with `np.nan` for values that are missing\n",
        "- Which attacks were provoked? Is \"not provoked\" the same thing as `Unprovoked`?"
      ]
    },
    {
      "cell_type": "markdown",
      "id": "d3f089c4",
      "metadata": {
        "id": "d3f089c4"
      },
      "source": [
        "## When are the data \"clean\"?\n",
        "- OK, the data are loaded: Now we want to clean them for analysis\n",
        "- For the kinds of analysis we do, the data are *clean* when:\n",
        "  - The data are in a single $N \\times K$ matrix $X$\n",
        "  - Each row $i=1,...,N$ represents a single observation\n",
        "  - The observations are all of the same kind (e.g. entrepreneurs versus companies)\n",
        "  - Each column $k=1,...,K$ represents a variable\n",
        "  - Missing values are appropriately \"handled\" (converted to `.nan` where appropriate or imputed/missing-dummied when appropriate -- not still lurking as `dtype=object`'s)\n",
        "- We might also want some other things (this updgrades \"clean\" to \"tidy\"):\n",
        "  - The variable names make sense (not \"NewVaCode297ViolentOff_VCCPrefix\")\n",
        "  - \"Unnecessary\" variables are removed\n",
        "  - Dates are converted into numerical values, like decimal date (e.g. 2018.125) or numeric dummies\n",
        "  - If the data are contained in multiple files, you end up with a single file combining all the relevant data"
      ]
    },
    {
      "cell_type": "markdown",
      "id": "85e8780a-a216-49cb-916f-eef6d131e32a",
      "metadata": {
        "id": "85e8780a-a216-49cb-916f-eef6d131e32a"
      },
      "source": [
        "## Investigating Missing Data: A Case Study\n",
        "- Handling the `.nan`'s is really just the first step with missing data\n",
        "- For key variables, you want to eliminate as many `.nan`'s as possible through detective work\n",
        "- Let's take a look at the `bond` variable: This is a crucial variable in the justice system, and most of the values are missing\n",
        "- This is an example of a variable with a **long tail** of values"
      ]
    },
    {
      "cell_type": "code",
      "execution_count": 22,
      "id": "cb0cd671-b756-492c-9092-d66468f2f192",
      "metadata": {
        "id": "cb0cd671-b756-492c-9092-d66468f2f192",
        "outputId": "c261ad4c-e890-4bdf-cbdc-020b727ecf7d",
        "colab": {
          "base_uri": "https://localhost:8080/",
          "height": 250
        }
      },
      "outputs": [
        {
          "output_type": "error",
          "ename": "NameError",
          "evalue": "name 'df' is not defined",
          "traceback": [
            "\u001b[0;31m---------------------------------------------------------------------------\u001b[0m",
            "\u001b[0;31mNameError\u001b[0m                                 Traceback (most recent call last)",
            "\u001b[0;32m<ipython-input-22-b97aee3b9ed7>\u001b[0m in \u001b[0;36m<cell line: 2>\u001b[0;34m()\u001b[0m\n\u001b[1;32m      1\u001b[0m \u001b[0mvar\u001b[0m \u001b[0;34m=\u001b[0m \u001b[0;34m'bond'\u001b[0m\u001b[0;34m\u001b[0m\u001b[0;34m\u001b[0m\u001b[0m\n\u001b[0;32m----> 2\u001b[0;31m \u001b[0mdf\u001b[0m\u001b[0;34m[\u001b[0m\u001b[0mvar\u001b[0m\u001b[0;34m]\u001b[0m \u001b[0;34m=\u001b[0m \u001b[0mpd\u001b[0m\u001b[0;34m.\u001b[0m\u001b[0mto_numeric\u001b[0m\u001b[0;34m(\u001b[0m\u001b[0mdf\u001b[0m\u001b[0;34m[\u001b[0m\u001b[0mvar\u001b[0m\u001b[0;34m]\u001b[0m\u001b[0;34m,\u001b[0m \u001b[0merrors\u001b[0m\u001b[0;34m=\u001b[0m\u001b[0;34m'coerce'\u001b[0m\u001b[0;34m)\u001b[0m \u001b[0;31m# Coerce the variable to numeric\u001b[0m\u001b[0;34m\u001b[0m\u001b[0;34m\u001b[0m\u001b[0m\n\u001b[0m\u001b[1;32m      3\u001b[0m \u001b[0;34m\u001b[0m\u001b[0m\n\u001b[1;32m      4\u001b[0m \u001b[0mprint\u001b[0m\u001b[0;34m(\u001b[0m\u001b[0mdf\u001b[0m\u001b[0;34m[\u001b[0m\u001b[0mvar\u001b[0m\u001b[0;34m]\u001b[0m\u001b[0;34m.\u001b[0m\u001b[0mdescribe\u001b[0m\u001b[0;34m(\u001b[0m\u001b[0;34m)\u001b[0m\u001b[0;34m,\u001b[0m\u001b[0;34m'\\n'\u001b[0m\u001b[0;34m)\u001b[0m \u001b[0;31m# Describe the numeric variable\u001b[0m\u001b[0;34m\u001b[0m\u001b[0;34m\u001b[0m\u001b[0m\n\u001b[1;32m      5\u001b[0m \u001b[0mdf\u001b[0m\u001b[0;34m[\u001b[0m\u001b[0mvar\u001b[0m\u001b[0;34m]\u001b[0m\u001b[0;34m.\u001b[0m\u001b[0mhist\u001b[0m\u001b[0;34m(\u001b[0m\u001b[0mbins\u001b[0m \u001b[0;34m=\u001b[0m \u001b[0;36m50\u001b[0m\u001b[0;34m)\u001b[0m \u001b[0;31m# Histogram of the variable values\u001b[0m\u001b[0;34m\u001b[0m\u001b[0;34m\u001b[0m\u001b[0m\n",
            "\u001b[0;31mNameError\u001b[0m: name 'df' is not defined"
          ]
        }
      ],
      "source": [
        "var = 'bond'\n",
        "df[var] = pd.to_numeric(df[var], errors='coerce') # Coerce the variable to numeric\n",
        "\n",
        "print(df[var].describe(),'\\n') # Describe the numeric variable\n",
        "df[var].hist(bins = 50) # Histogram of the variable values\n",
        "\n",
        "df['bond_NA'] = df[var].isnull() # Create a bond missing dummy; long tail\n",
        "\n",
        "print(sum(df['bond_NA']),'\\n') # How many missing values are there?\n"
      ]
    },
    {
      "cell_type": "markdown",
      "id": "1321f3f4-33ca-4331-b04f-32c1fd770a9f",
      "metadata": {
        "id": "1321f3f4-33ca-4331-b04f-32c1fd770a9f"
      },
      "source": [
        "## Investigating Missing Data: Cross tabulation\n",
        "- The relationships between variables are important, and we want a quick way of seeing how they relate\n",
        "- *Cross tabulation* is when you break two variables into categories, and enumerate the number in each of the bins\n",
        "- The call in Pandas is `pd.crosstab( df[var1], df[var2] )`\n",
        "- Notice this is a Pandas method (`pd.`) and not a dataframe object method (`df.`)\n",
        "- This is often the first step in determining how variables co-vary with one another, before computing a statistic or using a model"
      ]
    },
    {
      "cell_type": "code",
      "execution_count": null,
      "id": "217924df-15ff-436b-88b4-688b6a6d7000",
      "metadata": {
        "id": "217924df-15ff-436b-88b4-688b6a6d7000",
        "outputId": "1af2df53-e27c-4540-9d23-5623bb45932b"
      },
      "outputs": [
        {
          "data": {
            "text/html": [
              "<div>\n",
              "<style scoped>\n",
              "    .dataframe tbody tr th:only-of-type {\n",
              "        vertical-align: middle;\n",
              "    }\n",
              "\n",
              "    .dataframe tbody tr th {\n",
              "        vertical-align: top;\n",
              "    }\n",
              "\n",
              "    .dataframe thead th {\n",
              "        text-align: right;\n",
              "    }\n",
              "</style>\n",
              "<table border=\"1\" class=\"dataframe\">\n",
              "  <thead>\n",
              "    <tr style=\"text-align: right;\">\n",
              "      <th>case_type</th>\n",
              "      <th>F</th>\n",
              "      <th>I</th>\n",
              "      <th>M</th>\n",
              "      <th>S</th>\n",
              "    </tr>\n",
              "    <tr>\n",
              "      <th>is_poor</th>\n",
              "      <th></th>\n",
              "      <th></th>\n",
              "      <th></th>\n",
              "      <th></th>\n",
              "    </tr>\n",
              "  </thead>\n",
              "  <tbody>\n",
              "    <tr>\n",
              "      <th>0.0</th>\n",
              "      <td>2393</td>\n",
              "      <td>3</td>\n",
              "      <td>8189</td>\n",
              "      <td>905</td>\n",
              "    </tr>\n",
              "    <tr>\n",
              "      <th>1.0</th>\n",
              "      <td>4466</td>\n",
              "      <td>3</td>\n",
              "      <td>4748</td>\n",
              "      <td>1239</td>\n",
              "    </tr>\n",
              "  </tbody>\n",
              "</table>\n",
              "</div>"
            ],
            "text/plain": [
              "case_type     F  I     M     S\n",
              "is_poor                       \n",
              "0.0        2393  3  8189   905\n",
              "1.0        4466  3  4748  1239"
            ]
          },
          "execution_count": 14,
          "metadata": {},
          "output_type": "execute_result"
        }
      ],
      "source": [
        "pd.crosstab(df['is_poor'], df['case_type']) # Notice the use of pd. and not df."
      ]
    },
    {
      "cell_type": "markdown",
      "id": "780488cd-386f-4b97-8dae-9a5cc903c9b3",
      "metadata": {
        "id": "780488cd-386f-4b97-8dae-9a5cc903c9b3"
      },
      "source": [
        "## Investigating Missing Data: A Case Study\n",
        "- Let's see if we can explain *why* bond is missing so much using other variables, like whether the person was released pre-trial or the type of bond imposed.\n",
        "- In the codebook, we have (notice, no category 8...):\n",
        "  \n",
        "![Bond Types](https://github.com/DS3001/wrangling/blob/main/bondType.png?raw=1)\n",
        "\n"
      ]
    },
    {
      "cell_type": "code",
      "execution_count": null,
      "id": "92d77b0d-37d0-4c33-86e0-fd25195d49ec",
      "metadata": {
        "id": "92d77b0d-37d0-4c33-86e0-fd25195d49ec",
        "outputId": "d4844f90-db7b-4264-dceb-c096b2de9982"
      },
      "outputs": [
        {
          "name": "stdout",
          "output_type": "stream",
          "text": [
            "PretrialReleaseType1     0     1     2     3     4    5   6    7    8    9\n",
            "bond_NA                                                                   \n",
            "False                  367    39     0  5333  3015   35   0  306  388   85\n",
            "True                  3434  1855  5273   447  1009  140  12  270  737  241 \n",
            "\n"
          ]
        }
      ],
      "source": [
        "df['bond_NA'] = df['bond'].isnull()\n",
        "print(pd.crosstab(df['bond_NA'],df['PretrialReleaseType1']),'\\n') # Not very illuminating"
      ]
    },
    {
      "cell_type": "code",
      "execution_count": null,
      "id": "80cebb6f-2d75-4258-bbf9-c4aa0ea3db2f",
      "metadata": {
        "id": "80cebb6f-2d75-4258-bbf9-c4aa0ea3db2f",
        "outputId": "088d23de-2f59-4779-9cd0-9035955a9491"
      },
      "outputs": [
        {
          "name": "stdout",
          "output_type": "stream",
          "text": [
            "BondTypeAtInitialContact     1     2     3     4    5     6    7  9\n",
            "bond_NA                                                            \n",
            "False                        0  4149  5419     0    0     0    0  0\n",
            "True                      5953     0     0  1805  254  5285  117  4 \n",
            "\n"
          ]
        }
      ],
      "source": [
        "print(pd.crosstab(df['bond_NA'],df['BondTypeAtInitialContact']),'\\n') # Aha"
      ]
    },
    {
      "cell_type": "markdown",
      "id": "c19633fe-3f6b-45a0-81c7-97cecff31009",
      "metadata": {
        "id": "c19633fe-3f6b-45a0-81c7-97cecff31009"
      },
      "source": [
        "## Replacing Values\n",
        "- So we want to replace certain values of the **bond** depending on values of the **bond type**\n",
        "- There are (at least) two ways to do this:\n",
        "    - Use `df.loc[ condition, var] = value` to replace the value of variable `var` with `value` depending on whether `condition` is true\n",
        "    - Use `df[var].mask(condition,value)` to replace the value of variable `var` with `value` depending on whether `condition` is true\n",
        "- We have a serious dilemma with bond category 1"
      ]
    },
    {
      "cell_type": "markdown",
      "id": "229714d6-af4f-45b7-aafc-fb9a8571d95d",
      "metadata": {
        "id": "229714d6-af4f-45b7-aafc-fb9a8571d95d"
      },
      "source": [
        "## Logical Operators\n",
        "- Often, we want R to check a complex logical condition for every observation\n",
        "- These are some of the most commonly used operators:\n",
        "| Operator | Meaning |\n",
        "| :---: | :---:|\n",
        "| `and` | and |\n",
        "|`or` | or |\n",
        "|$==$, $!=$ | equivalence, inequivalence |\n",
        "|`<=`,`<` | less-than-equal-to, less-than |\n",
        "| `in`, `not in`| set membership, set non-membership |\n",
        "- For example, we'll want to determine the observations for which `df['is_poor'] == (9 or 99)`"
      ]
    },
    {
      "cell_type": "code",
      "execution_count": null,
      "id": "44523d49-6143-42c5-bbc3-0dcebd39acdc",
      "metadata": {
        "id": "44523d49-6143-42c5-bbc3-0dcebd39acdc",
        "outputId": "38a35db2-57e3-4646-cff4-96746ffd0c1d"
      },
      "outputs": [
        {
          "name": "stdout",
          "output_type": "stream",
          "text": [
            "Axes(0.125,0.11;0.775x0.77) \n",
            "\n",
            "count     16912.000000\n",
            "mean       1464.159413\n",
            "std        2923.362046\n",
            "min           0.000000\n",
            "25%           0.000000\n",
            "50%        1000.000000\n",
            "75%        2500.000000\n",
            "max      160000.000000\n",
            "Name: bond, dtype: float64 \n",
            "\n",
            "BondTypeAtInitialContact     1     2     3     4    5     6    7  9\n",
            "bond_NA                                                            \n",
            "False                        0  4149  5419  1805  254  5285    0  0\n",
            "True                      5953     0     0     0    0     0  117  4 \n",
            "\n"
          ]
        },
        {
          "data": {
            "image/png": "[encoded data removed]",
            "text/plain": [
              "<Figure size 640x480 with 1 Axes>"
            ]
          },
          "metadata": {},
          "output_type": "display_data"
        }
      ],
      "source": [
        "## For each bond type, replace the missings\n",
        "\n",
        "# df.loc[ df['BondTypeAtInitialContact'] == 9, 'bond'] = np.nan # Missing\n",
        "# df.loc[ df['BondTypeAtInitialContact'] == 7, 'bond'] = np.nan # Unknown\n",
        "\n",
        "# Code strategy 1: .loc\n",
        "df.loc[ df['BondTypeAtInitialContact'] == 6, 'bond'] = 0 # No bond posted\n",
        "df.loc[ df['BondTypeAtInitialContact'] == 5, 'bond'] = 0 # No bond posted\n",
        "df.loc[ df['BondTypeAtInitialContact'] == 4, 'bond'] = 0 # No bond posted\n",
        "\n",
        "# Code Strategy 2: .mask method\n",
        "#df['held_wo_bail'] = (df['BondTypeAtInitialContact'] == 1) # Create a held-without-bail dummy\n",
        "df['bond'].mask(df['BondTypeAtInitialContact'] ==1 , np.nan ) # Held without bail. Nan or Inf?\n",
        "\n",
        "print(df['bond'].hist(), '\\n')\n",
        "print(df['bond'].describe(), '\\n')\n",
        "df['bond_NA'] = df['bond'].isnull() # Update the missing dummy\n",
        "print(pd.crosstab(df['bond_NA'],df['BondTypeAtInitialContact']),'\\n')\n"
      ]
    },
    {
      "cell_type": "markdown",
      "id": "97fe58f3-7504-426d-aec3-da9665e1fa7e",
      "metadata": {
        "id": "97fe58f3-7504-426d-aec3-da9665e1fa7e"
      },
      "source": [
        "## Investigating Missing Data: A Case Study\n",
        "- Notice how we handled the \"held without bail issue\": There is a lot of nuance here\n",
        "- At this point, I'd drop categories 7 and 9, and leave the missing bond values as \"held without bail\"\n",
        "- You might be thinking, \"He is really into analyzing bonds!\"\n",
        "- Not exactly: Cleaning data sets requires some detective work, that's what we're illustrating\n",
        "- The cleaner your data are, the stronger the *signal* becomes relative to the *noise*, reducing *attenuation* of your findings\n",
        "- It requires your full cognitive attention, or your results will be garbage that makes everyone less informed, knowledgeable, and productive (\"GIGO\")\n",
        "- What are the consequences for society if you do a garbage analysis of bonds and sentencing?\n",
        "- We can't get this deeply into every variable in the data, but we must do it for the key ones for our analysis\n",
        "- So how do we continue cleaning up the `bond` variable?"
      ]
    },
    {
      "cell_type": "markdown",
      "id": "af41135f-f8ff-48dc-ad59-ae0981cc9083",
      "metadata": {
        "id": "af41135f-f8ff-48dc-ad59-ae0981cc9083"
      },
      "source": [
        "## Exercises\n",
        "- Cross tabulate the cleaned `Type` and `fatal` variables\n",
        "- Clean the `Type` variable up a bit by creating a new variable and consolidating the values into a smaller number of categories by replacing values\n",
        "- Cross tab your new variable and `fatal`\n",
        "- Are provoked attacks typically fatal? Which types of attack are most likely to be fatal?\n",
        "- What does this mean?\n",
        "- How does this exercise make you feel about sharks?"
      ]
    },
    {
      "cell_type": "markdown",
      "id": "8f709c07-127a-48be-b455-25e8572d25bc",
      "metadata": {
        "id": "8f709c07-127a-48be-b455-25e8572d25bc"
      },
      "source": [
        "## Selecting Subsets of the Observations (Row Filtering)\n",
        "- We often want to focus only on a subset of the observations, like defendants accused of a felony\n",
        "- We can **filter** on a conditional/Boolean statement, selecting the rows that get a 1 and discarding those that get a zero\n",
        "- This creates a new dataframe, focused just on what we're interested in: `df['case_type']=='F'`\n",
        "- For example, in the case of felonies, we can create a new dataframe: `df_felony = df[ df['case_type']=='F' ]`In general, the synattax is\n",
        " `new_df = df[ conditional ]`"
      ]
    },
    {
      "cell_type": "code",
      "execution_count": null,
      "id": "e73edbc9-a0ed-4787-af66-d322a689eba2",
      "metadata": {
        "id": "e73edbc9-a0ed-4787-af66-d322a689eba2",
        "outputId": "46b16aa8-c918-49f5-fe8b-e9ea2b92908c"
      },
      "outputs": [
        {
          "name": "stdout",
          "output_type": "stream",
          "text": [
            "case_type\n",
            "M    13616\n",
            "F     7029\n",
            "S     2309\n",
            "I        6\n",
            "Name: count, dtype: int64 \n",
            "\n",
            "case_type\n",
            "False    15957\n",
            "True      7029\n",
            "Name: count, dtype: int64 \n",
            "\n",
            "Old dataframe:  (22986, 714) \n",
            " New dataframe:  (7029, 714)\n"
          ]
        }
      ],
      "source": [
        "print(df['case_type'].value_counts(), '\\n') # How many charges of each type?\n",
        "conditional =  (df['case_type']=='F') # Conditional: The charge is a felony\n",
        "print(conditional.value_counts(), '\\n') # Counts for the conditional variable\n",
        "df_felony = df[ conditional ] # Create new dataset\n",
        "print('Old dataframe: ', df.shape, '\\n', 'New dataframe: ', df_felony.shape) # Dimensions of original and new dataframes"
      ]
    },
    {
      "cell_type": "markdown",
      "id": "49cac16d-14ee-4b8c-8d82-627e4fedd511",
      "metadata": {
        "id": "49cac16d-14ee-4b8c-8d82-627e4fedd511"
      },
      "source": [
        "## Selecting Subsets of the Variables (Column Filtering)\n",
        "- Suppose you only have a few variables you're actually interested in, or you might not want to release some sensitive data like names or phone numbers\n",
        "- You can use `new_df = df.filter( list )` to keep a specific set of variables in the list `list = [var1, var2, ..., varN]`\n",
        "- You can use `new_df = df.drop( list, axis=1 )` to drop a specific set of variables in the list `list = [var1, var2, ..., varN]`\n",
        "- For example, we might want only the demographic data, `list = ['Defendant_Age', 'Defendant_Sex', 'Defendant_Race']`... or we might want to hide those variables for privacy reasons"
      ]
    },
    {
      "cell_type": "code",
      "execution_count": null,
      "id": "9ab6fdbb-d509-4d7b-8e33-6b6ee24973d1",
      "metadata": {
        "id": "9ab6fdbb-d509-4d7b-8e33-6b6ee24973d1",
        "outputId": "4c430bf1-c455-441a-e939-c49ca4c63bc7"
      },
      "outputs": [
        {
          "name": "stdout",
          "output_type": "stream",
          "text": [
            "Index(['Defendant_Age', 'Defendant_Sex', 'Defendant_Race'], dtype='object') \n",
            " (22986, 3) \n",
            "\n",
            "Index(['InternalStudyID', 'REQ_REC#', 'Defendant_BirthYear',\n",
            "       'Defendant_AgeGroup', 'Defendant_AgeatCurrentArrest',\n",
            "       'Defendant_AttorneyTypeAtCaseClosure', 'is_poor',\n",
            "       'Defendant_RecordedZipCode_eMag', 'Defendant_VirginiaResidencyStatus',\n",
            "       'released',\n",
            "       ...\n",
            "       'NewFelonySexualAssaultArrest_Disposition',\n",
            "       'Intertnalindicator_ReasonforExcludingFromFollowUpAnalysis',\n",
            "       'CriminalHistoryRecordsReturnedorCMSRecordsFoundforIndividual',\n",
            "       'DispRecordFoundforChargesinOct2017Contact_Atleast1dispfound',\n",
            "       'CrimeCommission2021ReportClassificationofDefendants', 'age', 'sex',\n",
            "       'age_nan', 'age_impute', 'bond_NA'],\n",
            "      dtype='object', length=711) \n",
            " (22986, 711)\n"
          ]
        }
      ],
      "source": [
        "list = ['Defendant_Age', 'Defendant_Sex', 'Defendant_Race']\n",
        "new_df = df.filter(list) # Keep only the variables on the list\n",
        "print( new_df.columns, '\\n', new_df.shape, '\\n')\n",
        "new_df = df.drop(list,axis=1) # Drop only the variables on the list\n",
        "print( new_df.columns, '\\n', new_df.shape)"
      ]
    },
    {
      "cell_type": "markdown",
      "id": "0880f0dc-cf2f-4f20-8cec-48f50a6eb6df",
      "metadata": {
        "id": "0880f0dc-cf2f-4f20-8cec-48f50a6eb6df"
      },
      "source": [
        "## Saving Your Cleaned Data\n",
        "- Do not ever overwrite the original data file: Put it aside and save it for reproducibility purposes\n",
        "- The most common format to save data in is `.csv`, and the command is almost the same as the one to read the data in: `df.to_csv(filename)`"
      ]
    },
    {
      "cell_type": "markdown",
      "id": "12b82b29-ae2a-4743-9416-9f480486e7c8",
      "metadata": {
        "id": "12b82b29-ae2a-4743-9416-9f480486e7c8"
      },
      "source": [
        "## Exercises (Finishing Up)\n",
        "- The next code chunk cleans a bunch of variables I am interested in from the pretrial data and drops the ones I am not interested in\n",
        "- For the shark data, drop all the columns that are \"Unnamed\"\n",
        "- Save your data as a `.csv` with a new name (not `sharks.csv`, which is the original data file; maybe `sharks_clean.csv`)"
      ]
    },
    {
      "cell_type": "code",
      "execution_count": null,
      "id": "466d3544-f4f7-4576-a1f7-b7949198efcd",
      "metadata": {
        "id": "466d3544-f4f7-4576-a1f7-b7949198efcd"
      },
      "outputs": [],
      "source": [
        "df.to_csv('pretrial_data.csv')"
      ]
    }
  ],
  "metadata": {
    "colab": {
      "provenance": []
    },
    "kernelspec": {
      "display_name": "Python 3 (ipykernel)",
      "language": "python",
      "name": "python3"
    },
    "language_info": {
      "codemirror_mode": {
        "name": "ipython",
        "version": 3
      },
      "file_extension": ".py",
      "mimetype": "text/x-python",
      "name": "python",
      "nbconvert_exporter": "python",
      "pygments_lexer": "ipython3",
      "version": "3.10.4"
    }
  },
  "nbformat": 4,
  "nbformat_minor": 5
}